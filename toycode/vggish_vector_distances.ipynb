{
 "cells": [
  {
   "cell_type": "code",
   "execution_count": 1,
   "metadata": {},
   "outputs": [],
   "source": [
    "from os import path\n",
    "from glob import glob\n",
    "from tqdm import tqdm\n",
    "import torch"
   ]
  },
  {
   "cell_type": "code",
   "execution_count": 2,
   "metadata": {},
   "outputs": [
    {
     "name": "stderr",
     "output_type": "stream",
     "text": [
      "Using cache found in /root/.cache/torch/hub/harritaylor_torchvggish_master\n"
     ]
    }
   ],
   "source": [
    "model = torch.hub.load('harritaylor/torchvggish', 'vggish')\n",
    "model.eval()\n",
    "root = './total'\n",
    "filenames = glob(path.join(root,'*.wav'))\n",
    "# save file test\n",
    "result = torch.zeros((2871,3,128))\n",
    "# torch.save(result,'waveoutvggish.pt')\n",
    "# result = torch.load('waveoutvggish.pt')"
   ]
  },
  {
   "cell_type": "code",
   "execution_count": null,
   "metadata": {},
   "outputs": [
    {
     "name": "stderr",
     "output_type": "stream",
     "text": [
      " 57%|█████▋    | 1645/2871 [03:35<25:55,  1.27s/it]"
     ]
    }
   ],
   "source": [
    "for idx, data in enumerate(tqdm(filenames)):\n",
    "    result[idx] = model.forward(data)\n",
    "torch.save(result,'waveoutvggish.pt')"
   ]
  },
  {
   "cell_type": "code",
   "execution_count": 17,
   "metadata": {},
   "outputs": [],
   "source": [
    "result = torch.load('waveoutvggish.pt')\n",
    "result2 = torch.load('waveoutvggish2.pt')\n",
    "result3 = torch.load('waveoutvggish3.pt')"
   ]
  },
  {
   "cell_type": "code",
   "execution_count": 18,
   "metadata": {},
   "outputs": [],
   "source": [
    "result[1000:2000] = result2[:1000]"
   ]
  },
  {
   "cell_type": "code",
   "execution_count": 19,
   "metadata": {},
   "outputs": [],
   "source": [
    "result[2000:] = result3[:871]"
   ]
  },
  {
   "cell_type": "code",
   "execution_count": 23,
   "metadata": {},
   "outputs": [
    {
     "name": "stdout",
     "output_type": "stream",
     "text": [
      "tensor([[175.0000,   8.0150, 146.9809,  96.6381, 215.0000,  76.0000,  77.0000,\n",
      "         129.9418, 148.0000, 175.0000, 151.0000,  50.9997, 120.0000, 147.0000,\n",
      "         100.9996,  35.0000, 109.2515, 239.0648, 197.0742, 194.3145,   0.0000,\n",
      "         208.0226,  99.0073, 178.0902,  69.0885, 152.6576, 150.1689, 185.9028,\n",
      "         123.5378,  68.2334, 193.7238, 131.4761, 106.2006,  81.9073, 140.0000,\n",
      "         130.7106, 138.7872, 120.3720, 184.3302, 136.2045, 114.7997, 174.5733,\n",
      "          31.2926, 143.3065, 123.7217, 164.1533, 132.9986,  91.6803, 124.9202,\n",
      "         110.5259, 126.7673,  93.8098, 128.3048,  78.0756,  85.9993, 150.1588,\n",
      "         124.7335, 105.6587, 113.6419, 205.9167, 129.1877, 122.0355, 121.3608,\n",
      "          96.3163, 175.1996, 167.3877,  81.0526, 125.9937, 144.7074, 135.0812,\n",
      "         146.9039, 111.5134, 127.9105, 187.9833, 139.6054, 154.6475, 132.7677,\n",
      "         137.8722,  92.5622, 168.2598,  99.3117, 194.6155, 152.9996, 131.6102,\n",
      "          92.2010, 101.9279, 139.4145, 202.5399, 147.1292,  87.7691,  61.9808,\n",
      "         145.9087,  95.2382, 112.0756, 110.2058, 170.6496,  88.7569,  51.2550,\n",
      "         122.8680, 211.2205, 206.0467, 121.9554, 120.8861, 115.0070, 105.0711,\n",
      "         182.9916,  83.5611, 113.2201, 169.7119, 128.1616, 179.5312, 136.3912,\n",
      "          66.0289, 136.6904,  71.6750,  54.8276, 147.7938, 184.7328,  49.3588,\n",
      "         218.2177, 102.5653, 115.9777, 102.0456,  84.2017, 172.0435, 148.9174,\n",
      "          69.3448, 255.0000],\n",
      "        [175.0000,   8.0084, 146.9707,  96.6176, 215.0000,  76.0000,  77.0000,\n",
      "         129.9478, 148.0000, 174.9993, 151.0000,  51.0000, 120.0000, 147.0000,\n",
      "         100.9976,  35.0003, 109.2400, 239.0805, 197.0878, 194.3410,   0.0000,\n",
      "         208.0244,  99.0066, 178.0975,  69.0843, 152.6715, 150.1749, 185.9081,\n",
      "         123.5360,  68.2351, 193.7238, 131.4841, 106.1951,  81.8917, 140.0000,\n",
      "         130.6876, 138.7666, 120.3605, 184.3525, 136.2048, 114.7816, 174.5761,\n",
      "          31.2853, 143.2884, 123.7440, 164.1536, 132.9955,  91.6611, 124.9735,\n",
      "         110.5308, 126.7701,  93.8063, 128.2842,  78.0801,  85.9990, 150.1407,\n",
      "         124.7074, 105.6611, 113.6580, 205.9091, 129.1647, 122.0467, 121.3434,\n",
      "          96.2894, 175.2250, 167.3629,  81.0188, 126.0564, 144.7119, 135.0972,\n",
      "         146.9143, 111.5002, 127.9206, 187.9798, 139.6409, 154.6479, 132.7827,\n",
      "         137.8687,  92.5465, 168.2766,  99.2992, 194.6322, 152.9993, 131.6280,\n",
      "          92.2031, 101.9230, 139.4396, 202.5472, 147.1341,  87.7315,  61.9237,\n",
      "         145.9112,  95.2334, 112.0658, 110.1926, 170.6325,  88.7311,  51.2675,\n",
      "         122.8819, 211.2410, 206.0111, 121.9582, 120.9000, 115.0320, 105.0428,\n",
      "         182.9913,  83.5538, 113.1898, 169.6872, 128.0853, 179.5531, 136.3922,\n",
      "          65.9829, 136.6851,  71.6590,  54.8095, 147.7938, 184.7471,  49.4114,\n",
      "         218.2564, 102.5862, 115.9492, 102.0822,  84.2093, 172.0954, 148.9491,\n",
      "          69.3417, 255.0000],\n",
      "        [175.0000,   8.0108, 146.9687,  96.6444, 215.0000,  75.9996,  77.0000,\n",
      "         129.9349, 148.0000, 174.9996, 151.0000,  51.0000, 120.0000, 147.0000,\n",
      "         100.9996,  35.0000, 109.2511, 239.0759, 197.0784, 194.3250,   0.0000,\n",
      "         208.0303,  99.0105, 178.1014,  69.0961, 152.6691, 150.1790, 185.9056,\n",
      "         123.5583,  68.2473, 193.7130, 131.4817, 106.1992,  81.9105, 140.0000,\n",
      "         130.7018, 138.7865, 120.3511, 184.3333, 136.1857, 114.8025, 174.5768,\n",
      "          31.3037, 143.3009, 123.7332, 164.1592, 132.9955,  91.6768, 124.9370,\n",
      "         110.5740, 126.7760,  93.8095, 128.3006,  78.0822,  85.9996, 150.1665,\n",
      "         124.7377, 105.6688, 113.6437, 205.9105, 129.1877, 122.0456, 121.3567,\n",
      "          96.3145, 175.1842, 167.3856,  81.0153, 126.0056, 144.6980, 135.0801,\n",
      "         146.8945, 111.5214, 127.9053, 187.9857, 139.5925, 154.6385, 132.7645,\n",
      "         137.8774,  92.5639, 168.2651,  99.2978, 194.6176, 152.9983, 131.6186,\n",
      "          92.2066, 101.9248, 139.4131, 202.5364, 147.1292,  87.7597,  61.9502,\n",
      "         145.8861,  95.2097, 112.0773, 110.2090, 170.6468,  88.7398,  51.2508,\n",
      "         122.8527, 211.2184, 206.0261, 121.9634, 120.8715, 115.0254, 105.0752,\n",
      "         183.0056,  83.5792, 113.2149, 169.7210, 128.1365, 179.5138, 136.3849,\n",
      "          66.0174, 136.6872,  71.6796,  54.8401, 147.7698, 184.7412,  49.3612,\n",
      "         218.2267, 102.5834, 115.9749, 102.0533,  84.2323, 172.0805, 148.9223,\n",
      "          69.3372, 255.0000]], grad_fn=<MeanBackward1>)\n"
     ]
    }
   ],
   "source": [
    "print(torch.mean(result,0))"
   ]
  },
  {
   "cell_type": "code",
   "execution_count": 24,
   "metadata": {},
   "outputs": [],
   "source": [
    "vec_result = result.reshape((2871,-1))"
   ]
  },
  {
   "cell_type": "code",
   "execution_count": 26,
   "metadata": {},
   "outputs": [
    {
     "data": {
      "text/plain": [
       "torch.Size([2871, 384])"
      ]
     },
     "execution_count": 26,
     "metadata": {},
     "output_type": "execute_result"
    }
   ],
   "source": [
    "vec_result.size()"
   ]
  },
  {
   "cell_type": "code",
   "execution_count": 28,
   "metadata": {},
   "outputs": [
    {
     "name": "stdout",
     "output_type": "stream",
     "text": [
      "tensor([175.0000,   8.0150, 146.9809,  96.6381, 215.0000,  76.0000,  77.0000,\n",
      "        129.9418, 148.0000, 175.0000, 151.0000,  50.9997, 120.0000, 147.0000,\n",
      "        100.9996,  35.0000, 109.2515, 239.0648, 197.0742, 194.3145,   0.0000,\n",
      "        208.0226,  99.0073, 178.0902,  69.0885, 152.6576, 150.1689, 185.9028,\n",
      "        123.5378,  68.2334, 193.7238, 131.4761, 106.2006,  81.9073, 140.0000,\n",
      "        130.7106, 138.7872, 120.3720, 184.3302, 136.2045, 114.7997, 174.5733,\n",
      "         31.2926, 143.3065, 123.7217, 164.1533, 132.9986,  91.6803, 124.9202,\n",
      "        110.5259, 126.7673,  93.8098, 128.3048,  78.0756,  85.9993, 150.1588,\n",
      "        124.7335, 105.6587, 113.6419, 205.9167, 129.1877, 122.0355, 121.3608,\n",
      "         96.3163, 175.1996, 167.3877,  81.0526, 125.9937, 144.7074, 135.0812,\n",
      "        146.9039, 111.5134, 127.9105, 187.9833, 139.6054, 154.6475, 132.7677,\n",
      "        137.8722,  92.5622, 168.2598,  99.3117, 194.6155, 152.9996, 131.6102,\n",
      "         92.2010, 101.9279, 139.4145, 202.5399, 147.1292,  87.7691,  61.9808,\n",
      "        145.9087,  95.2382, 112.0756, 110.2058, 170.6496,  88.7569,  51.2550,\n",
      "        122.8680, 211.2205, 206.0467, 121.9554, 120.8861, 115.0070, 105.0711,\n",
      "        182.9916,  83.5611, 113.2201, 169.7119, 128.1616, 179.5312, 136.3912,\n",
      "         66.0289, 136.6904,  71.6750,  54.8276, 147.7938, 184.7328,  49.3588,\n",
      "        218.2177, 102.5653, 115.9777, 102.0456,  84.2017, 172.0435, 148.9174,\n",
      "         69.3448, 255.0000, 175.0000,   8.0084, 146.9707,  96.6176, 215.0000,\n",
      "         76.0000,  77.0000, 129.9478, 148.0000, 174.9993, 151.0000,  51.0000,\n",
      "        120.0000, 147.0000, 100.9976,  35.0003, 109.2400, 239.0805, 197.0878,\n",
      "        194.3410,   0.0000, 208.0244,  99.0066, 178.0975,  69.0843, 152.6715,\n",
      "        150.1749, 185.9081, 123.5360,  68.2351, 193.7238, 131.4841, 106.1951,\n",
      "         81.8917, 140.0000, 130.6876, 138.7666, 120.3605, 184.3525, 136.2048,\n",
      "        114.7816, 174.5761,  31.2853, 143.2884, 123.7440, 164.1536, 132.9955,\n",
      "         91.6611, 124.9735, 110.5308, 126.7701,  93.8063, 128.2842,  78.0801,\n",
      "         85.9990, 150.1407, 124.7074, 105.6611, 113.6580, 205.9091, 129.1647,\n",
      "        122.0467, 121.3434,  96.2894, 175.2250, 167.3629,  81.0188, 126.0564,\n",
      "        144.7119, 135.0972, 146.9143, 111.5002, 127.9206, 187.9798, 139.6409,\n",
      "        154.6479, 132.7827, 137.8687,  92.5465, 168.2766,  99.2992, 194.6322,\n",
      "        152.9993, 131.6280,  92.2031, 101.9230, 139.4396, 202.5472, 147.1341,\n",
      "         87.7315,  61.9237, 145.9112,  95.2334, 112.0658, 110.1926, 170.6325,\n",
      "         88.7311,  51.2675, 122.8819, 211.2410, 206.0111, 121.9582, 120.9000,\n",
      "        115.0320, 105.0428, 182.9913,  83.5538, 113.1898, 169.6872, 128.0853,\n",
      "        179.5531, 136.3922,  65.9829, 136.6851,  71.6590,  54.8095, 147.7938,\n",
      "        184.7471,  49.4114, 218.2564, 102.5862, 115.9492, 102.0822,  84.2093,\n",
      "        172.0954, 148.9491,  69.3417, 255.0000, 175.0000,   8.0108, 146.9687,\n",
      "         96.6444, 215.0000,  75.9996,  77.0000, 129.9349, 148.0000, 174.9996,\n",
      "        151.0000,  51.0000, 120.0000, 147.0000, 100.9996,  35.0000, 109.2511,\n",
      "        239.0759, 197.0784, 194.3250,   0.0000, 208.0303,  99.0105, 178.1014,\n",
      "         69.0961, 152.6691, 150.1790, 185.9056, 123.5583,  68.2473, 193.7130,\n",
      "        131.4817, 106.1992,  81.9105, 140.0000, 130.7018, 138.7865, 120.3511,\n",
      "        184.3333, 136.1857, 114.8025, 174.5768,  31.3037, 143.3009, 123.7332,\n",
      "        164.1592, 132.9955,  91.6768, 124.9370, 110.5740, 126.7760,  93.8095,\n",
      "        128.3006,  78.0822,  85.9996, 150.1665, 124.7377, 105.6688, 113.6437,\n",
      "        205.9105, 129.1877, 122.0456, 121.3567,  96.3145, 175.1842, 167.3856,\n",
      "         81.0153, 126.0056, 144.6980, 135.0801, 146.8945, 111.5214, 127.9053,\n",
      "        187.9857, 139.5925, 154.6385, 132.7645, 137.8774,  92.5639, 168.2651,\n",
      "         99.2978, 194.6176, 152.9983, 131.6186,  92.2066, 101.9248, 139.4131,\n",
      "        202.5364, 147.1292,  87.7597,  61.9502, 145.8861,  95.2097, 112.0773,\n",
      "        110.2090, 170.6468,  88.7398,  51.2508, 122.8527, 211.2184, 206.0261,\n",
      "        121.9634, 120.8715, 115.0254, 105.0752, 183.0056,  83.5792, 113.2149,\n",
      "        169.7210, 128.1365, 179.5138, 136.3849,  66.0174, 136.6872,  71.6796,\n",
      "         54.8401, 147.7698, 184.7412,  49.3612, 218.2267, 102.5834, 115.9749,\n",
      "        102.0533,  84.2323, 172.0805, 148.9223,  69.3372, 255.0000],\n",
      "       grad_fn=<MeanBackward1>)\n"
     ]
    }
   ],
   "source": [
    "print(torch.mean(vec_result,0))\n",
    "mean_vec = torch.mean(vec_result,0)"
   ]
  },
  {
   "cell_type": "code",
   "execution_count": 38,
   "metadata": {},
   "outputs": [
    {
     "name": "stdout",
     "output_type": "stream",
     "text": [
      "tensor([[ 8.3666,  8.3066,  8.1548,  ..., 10.5357, 12.3085,  8.9722]],\n",
      "       grad_fn=<ViewBackward>)\n"
     ]
    }
   ],
   "source": [
    "dist_vec = torch.cdist(mean_vec.reshape(1,-1), vec_result)\n",
    "print(dist_vec)"
   ]
  },
  {
   "cell_type": "code",
   "execution_count": 40,
   "metadata": {},
   "outputs": [
    {
     "data": {
      "text/plain": [
       "tensor(5.3385, grad_fn=<MinBackward1>)"
      ]
     },
     "execution_count": 40,
     "metadata": {},
     "output_type": "execute_result"
    }
   ],
   "source": [
    "torch.min(dist_vec)"
   ]
  },
  {
   "cell_type": "code",
   "execution_count": 42,
   "metadata": {},
   "outputs": [
    {
     "data": {
      "text/plain": [
       "tensor(28.1869, grad_fn=<MaxBackward1>)"
      ]
     },
     "execution_count": 42,
     "metadata": {},
     "output_type": "execute_result"
    }
   ],
   "source": [
    "torch.max(dist_vec)"
   ]
  },
  {
   "cell_type": "code",
   "execution_count": 55,
   "metadata": {},
   "outputs": [],
   "source": [
    "np_dist_vec = dist_vec.detach().numpy()[0]"
   ]
  },
  {
   "cell_type": "code",
   "execution_count": 57,
   "metadata": {},
   "outputs": [
    {
     "data": {
      "text/plain": [
       "[<matplotlib.lines.Line2D at 0x7f6b27c0af70>]"
      ]
     },
     "execution_count": 57,
     "metadata": {},
     "output_type": "execute_result"
    },
    {
     "data": {
      "image/png": "[encoded data removed]",
      "text/plain": [
       "<Figure size 432x288 with 1 Axes>"
      ]
     },
     "metadata": {
      "needs_background": "light"
     },
     "output_type": "display_data"
    }
   ],
   "source": [
    "import matplotlib.pyplot as plt\n",
    "plt.plot(np_dist_vec)"
   ]
  },
  {
   "cell_type": "code",
   "execution_count": 60,
   "metadata": {},
   "outputs": [
    {
     "name": "stdout",
     "output_type": "stream",
     "text": [
      "104\n",
      "348\n",
      "433\n",
      "577\n",
      "773\n",
      "988\n",
      "1258\n",
      "2272\n"
     ]
    }
   ],
   "source": [
    "for idx, data in enumerate(np_dist_vec):\n",
    "    if data > 19:\n",
    "        print(idx)"
   ]
  },
  {
   "cell_type": "code",
   "execution_count": 61,
   "metadata": {},
   "outputs": [],
   "source": [
    "nomalize_vec = np_dist_vec / max(np_dist_vec)"
   ]
  },
  {
   "cell_type": "code",
   "execution_count": 62,
   "metadata": {
    "scrolled": true
   },
   "outputs": [
    {
     "data": {
      "text/plain": [
       "[<matplotlib.lines.Line2D at 0x7f6b2601c2e0>]"
      ]
     },
     "execution_count": 62,
     "metadata": {},
     "output_type": "execute_result"
    },
    {
     "data": {
      "image/png": "[encoded data removed]",
      "text/plain": [
       "<Figure size 432x288 with 1 Axes>"
      ]
     },
     "metadata": {
      "needs_background": "light"
     },
     "output_type": "display_data"
    }
   ],
   "source": [
    "plt.plot(nomalize_vec)"
   ]
  },
  {
   "cell_type": "code",
   "execution_count": 68,
   "metadata": {},
   "outputs": [
    {
     "name": "stdout",
     "output_type": "stream",
     "text": [
      "104\n",
      "348\n",
      "433\n",
      "490\n",
      "521\n",
      "577\n",
      "699\n",
      "773\n",
      "777\n",
      "854\n",
      "914\n",
      "918\n",
      "975\n",
      "988\n",
      "1258\n",
      "1347\n",
      "1559\n",
      "1826\n",
      "1863\n",
      "1866\n",
      "1949\n",
      "2026\n",
      "2272\n",
      "2381\n",
      "2426\n",
      "2693\n",
      "2866\n"
     ]
    }
   ],
   "source": [
    "for idx, data in enumerate(nomalize_vec):\n",
    "    if data > 0.6:\n",
    "        print(idx)"
   ]
  },
  {
   "cell_type": "code",
   "execution_count": null,
   "metadata": {},
   "outputs": [],
   "source": []
  }
 ],
 "metadata": {
  "kernelspec": {
   "display_name": "Python [conda env:root] *",
   "language": "python",
   "name": "conda-root-py"
  },
  "language_info": {
   "codemirror_mode": {
    "name": "ipython",
    "version": 3
   },
   "file_extension": ".py",
   "mimetype": "text/x-python",
   "name": "python",
   "nbconvert_exporter": "python",
   "pygments_lexer": "ipython3",
   "version": "3.8.3"
  }
 },
 "nbformat": 4,
 "nbformat_minor": 4
}
