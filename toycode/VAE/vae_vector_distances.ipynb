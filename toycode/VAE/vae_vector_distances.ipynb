{
 "cells": [
  {
   "cell_type": "code",
   "execution_count": 1,
   "metadata": {},
   "outputs": [],
   "source": [
    "from os import path\n",
    "from glob import glob\n",
    "from tqdm import tqdm\n",
    "import torch\n",
    "import numpy as np\n",
    "import matplotlib.pyplot as plt"
   ]
  },
  {
   "cell_type": "code",
   "execution_count": 137,
   "metadata": {},
   "outputs": [],
   "source": [
    "result = torch.load('emb_result_2048.pth')"
   ]
  },
  {
   "cell_type": "code",
   "execution_count": 138,
   "metadata": {},
   "outputs": [
    {
     "name": "stdout",
     "output_type": "stream",
     "text": [
      "tensor([-3.0733,  2.5914,  2.7220,  ...,  2.2536,  3.0156, -3.2385])\n"
     ]
    }
   ],
   "source": [
    "print(torch.mean(result,0))"
   ]
  },
  {
   "cell_type": "code",
   "execution_count": 139,
   "metadata": {},
   "outputs": [
    {
     "data": {
      "text/plain": [
       "torch.Size([2871, 2048])"
      ]
     },
     "execution_count": 139,
     "metadata": {},
     "output_type": "execute_result"
    }
   ],
   "source": [
    "result.size()"
   ]
  },
  {
   "cell_type": "code",
   "execution_count": 140,
   "metadata": {},
   "outputs": [],
   "source": [
    "mean_vec = torch.mean(result,0)"
   ]
  },
  {
   "cell_type": "code",
   "execution_count": 141,
   "metadata": {
    "scrolled": true
   },
   "outputs": [
    {
     "name": "stdout",
     "output_type": "stream",
     "text": [
      "tensor([[7.8401, 9.5831, 3.7113,  ..., 3.2022, 4.0141, 1.5245]])\n"
     ]
    }
   ],
   "source": [
    "dist_vec = torch.cdist(mean_vec.reshape(1,-1), result)\n",
    "print(dist_vec)"
   ]
  },
  {
   "cell_type": "code",
   "execution_count": 142,
   "metadata": {},
   "outputs": [
    {
     "data": {
      "text/plain": [
       "tensor(0.5248)"
      ]
     },
     "execution_count": 142,
     "metadata": {},
     "output_type": "execute_result"
    }
   ],
   "source": [
    "torch.min(dist_vec)"
   ]
  },
  {
   "cell_type": "code",
   "execution_count": 143,
   "metadata": {},
   "outputs": [
    {
     "data": {
      "text/plain": [
       "tensor(36.2992)"
      ]
     },
     "execution_count": 143,
     "metadata": {},
     "output_type": "execute_result"
    }
   ],
   "source": [
    "torch.max(dist_vec)"
   ]
  },
  {
   "cell_type": "code",
   "execution_count": 144,
   "metadata": {},
   "outputs": [
    {
     "name": "stdout",
     "output_type": "stream",
     "text": [
      "[1380  651  819 1344]\n",
      "[2334 2120  919 2843 2819 1412 1380  651  819 1344]\n"
     ]
    },
    {
     "data": {
      "text/plain": [
       "1344"
      ]
     },
     "execution_count": 144,
     "metadata": {},
     "output_type": "execute_result"
    }
   ],
   "source": [
    "np_dist_vec = dist_vec.detach().numpy()[0]\n",
    "rank = np.argsort(np_dist_vec)\n",
    "print(rank[-4:])\n",
    "print(rank[-10:])\n",
    "np.argmax(np_dist_vec)"
   ]
  },
  {
   "cell_type": "markdown",
   "metadata": {},
   "source": [
    "min\n",
    "[2814  312 2861  440]\n",
    "[2814  312 2861  440  137 1922 1877 1014 1764    7]  \n",
    "max\n",
    "[1346 1333 1344 2074]\n",
    "[1015 2779  734 1002 1518  651 1346 1333 1344 2074]  \n",
    "2epoch\n",
    "max [1380  651  819 1344]\n",
    "[2334 2120  919 2843 2819 1412 1380  651  819 1344]"
   ]
  },
  {
   "cell_type": "code",
   "execution_count": 145,
   "metadata": {},
   "outputs": [
    {
     "data": {
      "text/plain": [
       "[<matplotlib.lines.Line2D at 0x7f1903ac1160>]"
      ]
     },
     "execution_count": 145,
     "metadata": {},
     "output_type": "execute_result"
    },
    {
     "data": {
      "image/png": "[encoded data removed]",
      "text/plain": [
       "<Figure size 432x288 with 1 Axes>"
      ]
     },
     "metadata": {
      "needs_background": "light"
     },
     "output_type": "display_data"
    }
   ],
   "source": [
    "plt.plot(np_dist_vec)"
   ]
  },
  {
   "cell_type": "code",
   "execution_count": 146,
   "metadata": {},
   "outputs": [],
   "source": [
    "nomalize_vec = np_dist_vec / max(np_dist_vec)"
   ]
  },
  {
   "cell_type": "code",
   "execution_count": 147,
   "metadata": {},
   "outputs": [
    {
     "data": {
      "text/plain": [
       "[<matplotlib.lines.Line2D at 0x7f19081b6910>]"
      ]
     },
     "execution_count": 147,
     "metadata": {},
     "output_type": "execute_result"
    },
    {
     "data": {
      "image/png": "[encoded data removed]",
      "text/plain": [
       "<Figure size 432x288 with 1 Axes>"
      ]
     },
     "metadata": {
      "needs_background": "light"
     },
     "output_type": "display_data"
    }
   ],
   "source": [
    "plt.plot(nomalize_vec)"
   ]
  },
  {
   "cell_type": "code",
   "execution_count": 148,
   "metadata": {},
   "outputs": [
    {
     "name": "stdout",
     "output_type": "stream",
     "text": [
      "1344\n"
     ]
    }
   ],
   "source": [
    "for idx, data in enumerate(nomalize_vec):\n",
    "    if data > 0.8:\n",
    "        print(idx)"
   ]
  },
  {
   "cell_type": "code",
   "execution_count": 151,
   "metadata": {},
   "outputs": [
    {
     "name": "stdout",
     "output_type": "stream",
     "text": [
      "7\n",
      "334\n",
      "352\n",
      "363\n",
      "467\n",
      "580\n",
      "620\n",
      "630\n",
      "776\n",
      "921\n",
      "1063\n",
      "1244\n",
      "1290\n",
      "1340\n",
      "1419\n",
      "1523\n",
      "1694\n",
      "1701\n",
      "1992\n",
      "2019\n",
      "2048\n",
      "2116\n",
      "2133\n",
      "2332\n",
      "2600\n"
     ]
    }
   ],
   "source": [
    "for idx, data in enumerate(nomalize_vec):\n",
    "    if data < 0.02:\n",
    "        print(idx)"
   ]
  },
  {
   "cell_type": "code",
   "execution_count": 152,
   "metadata": {},
   "outputs": [
    {
     "name": "stdout",
     "output_type": "stream",
     "text": [
      "1714\n",
      "79\n",
      "1782\n",
      "697\n",
      "2639\n"
     ]
    }
   ],
   "source": [
    "broken = [1118,1904,2392,2441,2602]\n",
    "for idx in broken:\n",
    "    dist_vec = torch.cdist(result[idx].reshape(1,-1), result)\n",
    "    np_dist_vec = dist_vec.detach().numpy()[0]\n",
    "    np_dist_vec[idx] = np_dist_vec.max()\n",
    "    print(np_dist_vec.argmin())"
   ]
  },
  {
   "cell_type": "markdown",
   "metadata": {},
   "source": [
    "min\n",
    "1308\n",
    "528\n",
    "682\n",
    "827\n",
    "628"
   ]
  },
  {
   "cell_type": "code",
   "execution_count": 163,
   "metadata": {},
   "outputs": [
    {
     "name": "stdout",
     "output_type": "stream",
     "text": [
      "torch.Size([5, 2048])\n"
     ]
    }
   ],
   "source": [
    "broken_val = torch.index_select(result,0,torch.tensor(broken))\n",
    "print(broken_val.shape)\n",
    "dist_vec = torch.cdist(torch.mean(broken_val,0).reshape(1,-1), result)\n",
    "dist_vec = dist_vec.reshape(-1)"
   ]
  },
  {
   "cell_type": "code",
   "execution_count": 164,
   "metadata": {},
   "outputs": [
    {
     "data": {
      "text/plain": [
       "[<matplotlib.lines.Line2D at 0x7f19032d0310>]"
      ]
     },
     "execution_count": 164,
     "metadata": {},
     "output_type": "execute_result"
    },
    {
     "data": {
      "image/png": "[encoded data removed]",
      "text/plain": [
       "<Figure size 432x288 with 1 Axes>"
      ]
     },
     "metadata": {
      "needs_background": "light"
     },
     "output_type": "display_data"
    }
   ],
   "source": [
    "plt.plot(dist_vec)"
   ]
  },
  {
   "cell_type": "code",
   "execution_count": 166,
   "metadata": {},
   "outputs": [
    {
     "name": "stdout",
     "output_type": "stream",
     "text": [
      "tensor([1380,  651,  819, 1344])\n",
      "tensor([1528,  919, 2120, 2843, 2819, 1412, 1380,  651,  819, 1344])\n"
     ]
    },
    {
     "data": {
      "text/plain": [
       "tensor(1344)"
      ]
     },
     "execution_count": 166,
     "metadata": {},
     "output_type": "execute_result"
    }
   ],
   "source": [
    "rank = np.argsort(dist_vec)\n",
    "print(rank[-4:])\n",
    "print(rank[-10:])\n",
    "np.argmax(dist_vec)"
   ]
  },
  {
   "cell_type": "markdown",
   "metadata": {},
   "source": [
    "tensor([1380,  651,  819, 1344])  \n",
    "tensor([1528,  919, 2120, 2843, 2819, 1412, 1380,  651,  819, 1344])"
   ]
  },
  {
   "cell_type": "code",
   "execution_count": null,
   "metadata": {},
   "outputs": [],
   "source": []
  }
 ],
 "metadata": {
  "kernelspec": {
   "display_name": "Python 3",
   "language": "python",
   "name": "python3"
  },
  "language_info": {
   "codemirror_mode": {
    "name": "ipython",
    "version": 3
   },
   "file_extension": ".py",
   "mimetype": "text/x-python",
   "name": "python",
   "nbconvert_exporter": "python",
   "pygments_lexer": "ipython3",
   "version": "3.8.3"
  }
 },
 "nbformat": 4,
 "nbformat_minor": 4
}
