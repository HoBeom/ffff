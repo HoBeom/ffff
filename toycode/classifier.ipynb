{
 "cells": [
  {
   "cell_type": "code",
   "execution_count": 1,
   "metadata": {},
   "outputs": [],
   "source": [
    "from os import path\n",
    "from glob import glob\n",
    "from tqdm import tqdm\n",
    "import torch\n",
    "import numpy as np"
   ]
  },
  {
   "cell_type": "code",
   "execution_count": 2,
   "metadata": {},
   "outputs": [],
   "source": [
    "nomal_data = torch.load('waveoutvggish.pt')"
   ]
  },
  {
   "cell_type": "code",
   "execution_count": 3,
   "metadata": {},
   "outputs": [
    {
     "data": {
      "text/plain": [
       "torch.Size([2871, 3, 128])"
      ]
     },
     "execution_count": 3,
     "metadata": {},
     "output_type": "execute_result"
    }
   ],
   "source": [
    "nomal_data.shape"
   ]
  },
  {
   "cell_type": "code",
   "execution_count": 4,
   "metadata": {},
   "outputs": [],
   "source": [
    "nomal_data = nomal_data.reshape((2871,-1))"
   ]
  },
  {
   "cell_type": "code",
   "execution_count": 5,
   "metadata": {},
   "outputs": [
    {
     "data": {
      "text/plain": [
       "torch.Size([2871, 384])"
      ]
     },
     "execution_count": 5,
     "metadata": {},
     "output_type": "execute_result"
    }
   ],
   "source": [
    "nomal_data.shape"
   ]
  },
  {
   "cell_type": "code",
   "execution_count": 6,
   "metadata": {},
   "outputs": [],
   "source": [
    "broken_list = [1904, 2392, 2441, 2602] # 1118"
   ]
  },
  {
   "cell_type": "code",
   "execution_count": 7,
   "metadata": {},
   "outputs": [],
   "source": [
    "# for idx in broken_list:\n",
    "#     nomal_data[idx]._requires_grad=False"
   ]
  },
  {
   "cell_type": "code",
   "execution_count": 8,
   "metadata": {},
   "outputs": [],
   "source": [
    "broken_aug_data = torch.load('broken-waveoutvggish.pt')"
   ]
  },
  {
   "cell_type": "code",
   "execution_count": 9,
   "metadata": {},
   "outputs": [
    {
     "data": {
      "text/plain": [
       "torch.Size([2000, 3, 128])"
      ]
     },
     "execution_count": 9,
     "metadata": {},
     "output_type": "execute_result"
    }
   ],
   "source": [
    "broken_aug_data.shape"
   ]
  },
  {
   "cell_type": "code",
   "execution_count": 10,
   "metadata": {},
   "outputs": [],
   "source": [
    "broken_aug_data = broken_aug_data.reshape((2000, -1))"
   ]
  },
  {
   "cell_type": "code",
   "execution_count": 11,
   "metadata": {},
   "outputs": [
    {
     "data": {
      "text/plain": [
       "torch.Size([2000, 384])"
      ]
     },
     "execution_count": 11,
     "metadata": {},
     "output_type": "execute_result"
    }
   ],
   "source": [
    "broken_aug_data.shape"
   ]
  },
  {
   "cell_type": "code",
   "execution_count": 12,
   "metadata": {},
   "outputs": [],
   "source": [
    "import torch.nn as nn\n",
    "from torch.autograd import Variable\n",
    "import torch.optim as optim"
   ]
  },
  {
   "cell_type": "code",
   "execution_count": 13,
   "metadata": {},
   "outputs": [],
   "source": [
    "class SimpleClassifier(nn.Module):\n",
    "    \"\"\"\n",
    "    Code from https://gist.github.com/santi-pdp/d0e9002afe74db04aa5bbff6d076e8fe\n",
    "    \"\"\"\n",
    "    def __init__(self):\n",
    "        super().__init__()\n",
    "        self.fc1 = nn.Linear(384, 500)\n",
    "        self.relu1 = nn.ReLU()\n",
    "        self.dout = nn.Dropout(0.2)\n",
    "        self.fc2 = nn.Linear(500, 300)\n",
    "        self.prelu = nn.PReLU(1)\n",
    "        self.out = nn.Linear(300, 1)\n",
    "        self.out_act = nn.Sigmoid()\n",
    "        \n",
    "    def forward(self, input_):\n",
    "        a1 = self.fc1(input_)\n",
    "        h1 = self.relu1(a1)\n",
    "        dout = self.dout(h1)\n",
    "        a2 = self.fc2(dout)\n",
    "        h2 = self.prelu(a2)\n",
    "        a3 = self.out(h2)\n",
    "        y = self.out_act(a3)\n",
    "        return y\n",
    "    \n",
    "model = SimpleClassifier()\n",
    "opt = optim.Adam(model.parameters(), lr=0.0001, betas=(0.9, 0.999))\n",
    "criterion = nn.BCELoss()"
   ]
  },
  {
   "cell_type": "code",
   "execution_count": 14,
   "metadata": {},
   "outputs": [
    {
     "data": {
      "text/plain": [
       "torch.Size([4871, 384])"
      ]
     },
     "execution_count": 14,
     "metadata": {},
     "output_type": "execute_result"
    }
   ],
   "source": [
    "total_data = torch.cat((nomal_data, broken_aug_data), 0)\n",
    "total_data.shape"
   ]
  },
  {
   "cell_type": "code",
   "execution_count": 15,
   "metadata": {},
   "outputs": [
    {
     "data": {
      "text/plain": [
       "torch.Size([4871, 1])"
      ]
     },
     "execution_count": 15,
     "metadata": {},
     "output_type": "execute_result"
    }
   ],
   "source": [
    "total_label = torch.cat((torch.ones(len(nomal_data), 1),torch.zeros(len(broken_aug_data), 1)), 0)\n",
    "total_label.shape"
   ]
  },
  {
   "cell_type": "code",
   "execution_count": 16,
   "metadata": {},
   "outputs": [],
   "source": [
    "total_data.requires_grad_ = True"
   ]
  },
  {
   "cell_type": "code",
   "execution_count": 17,
   "metadata": {},
   "outputs": [
    {
     "data": {
      "text/plain": [
       "tensor([[1.],\n",
       "        [1.],\n",
       "        [1.],\n",
       "        ...,\n",
       "        [0.],\n",
       "        [0.],\n",
       "        [0.]])"
      ]
     },
     "execution_count": 17,
     "metadata": {},
     "output_type": "execute_result"
    }
   ],
   "source": [
    "total_label"
   ]
  },
  {
   "cell_type": "code",
   "execution_count": 18,
   "metadata": {},
   "outputs": [],
   "source": [
    "def train_epoch(model, opt, criterion):\n",
    "    model.train()\n",
    "    opt.zero_grad()\n",
    "    Variable(total_data, requires_grad=True)\n",
    "    # (1) Forward\n",
    "    y = model(total_data)\n",
    "    # (2) Compute diff\n",
    "    loss = criterion(y, total_label)\n",
    "    # (3) Compute gradients\n",
    "    loss.backward()\n",
    "    # (4) update weights\n",
    "    opt.step()\n",
    "    return loss.data.numpy()"
   ]
  },
  {
   "cell_type": "code",
   "execution_count": 19,
   "metadata": {},
   "outputs": [],
   "source": [
    "import matplotlib.pyplot as plt\n",
    "%matplotlib inline"
   ]
  },
  {
   "cell_type": "code",
   "execution_count": 20,
   "metadata": {},
   "outputs": [
    {
     "data": {
      "text/plain": [
       "[<matplotlib.lines.Line2D at 0x7f33508842b0>]"
      ]
     },
     "execution_count": 20,
     "metadata": {},
     "output_type": "execute_result"
    },
    {
     "data": {
      "image/png": "[encoded data removed]",
      "text/plain": [
       "<Figure size 432x288 with 1 Axes>"
      ]
     },
     "metadata": {
      "needs_background": "light"
     },
     "output_type": "display_data"
    }
   ],
   "source": [
    "e_losses = []\n",
    "num_epochs = 200\n",
    "for e in range(num_epochs):\n",
    "    e_losses.append(train_epoch(model, opt, criterion))\n",
    "plt.plot(e_losses)"
   ]
  },
  {
   "cell_type": "code",
   "execution_count": 21,
   "metadata": {},
   "outputs": [
    {
     "data": {
      "text/plain": [
       "[<matplotlib.lines.Line2D at 0x7f33507e4820>]"
      ]
     },
     "execution_count": 21,
     "metadata": {},
     "output_type": "execute_result"
    },
    {
     "data": {
      "image/png": "[encoded data removed]",
      "text/plain": [
       "<Figure size 432x288 with 1 Axes>"
      ]
     },
     "metadata": {
      "needs_background": "light"
     },
     "output_type": "display_data"
    }
   ],
   "source": [
    "model.eval()\n",
    "y = model(total_data).detach().numpy()\n",
    "plt.plot(y)"
   ]
  },
  {
   "cell_type": "code",
   "execution_count": 22,
   "metadata": {},
   "outputs": [
    {
     "name": "stdout",
     "output_type": "stream",
     "text": [
      "tensor([0.5518], grad_fn=<SigmoidBackward>)\n",
      "tensor([0.5398], grad_fn=<SigmoidBackward>)\n",
      "tensor([0.4631], grad_fn=<SigmoidBackward>)\n",
      "tensor([0.4801], grad_fn=<SigmoidBackward>)\n"
     ]
    }
   ],
   "source": [
    "for idx in broken_list:\n",
    "    print(model(total_data[idx]))"
   ]
  },
  {
   "cell_type": "code",
   "execution_count": 23,
   "metadata": {},
   "outputs": [
    {
     "data": {
      "text/plain": [
       "0.5244992"
      ]
     },
     "execution_count": 23,
     "metadata": {},
     "output_type": "execute_result"
    }
   ],
   "source": [
    "np.mean(y[:2871])"
   ]
  },
  {
   "cell_type": "code",
   "execution_count": 24,
   "metadata": {},
   "outputs": [
    {
     "data": {
      "text/plain": [
       "0.44757488"
      ]
     },
     "execution_count": 24,
     "metadata": {},
     "output_type": "execute_result"
    }
   ],
   "source": [
    "np.min(y[:2871])"
   ]
  },
  {
   "cell_type": "code",
   "execution_count": 25,
   "metadata": {},
   "outputs": [
    {
     "data": {
      "text/plain": [
       "0.7054173"
      ]
     },
     "execution_count": 25,
     "metadata": {},
     "output_type": "execute_result"
    }
   ],
   "source": [
    "np.max(y[:2871])"
   ]
  },
  {
   "cell_type": "code",
   "execution_count": 26,
   "metadata": {},
   "outputs": [
    {
     "data": {
      "text/plain": [
       "0.4977604"
      ]
     },
     "execution_count": 26,
     "metadata": {},
     "output_type": "execute_result"
    }
   ],
   "source": [
    "np.mean(y[-2000:])"
   ]
  },
  {
   "cell_type": "code",
   "execution_count": 27,
   "metadata": {},
   "outputs": [
    {
     "data": {
      "text/plain": [
       "0.5621739"
      ]
     },
     "execution_count": 27,
     "metadata": {},
     "output_type": "execute_result"
    }
   ],
   "source": [
    "maxval = np.max(y[-2000:])\n",
    "maxval"
   ]
  },
  {
   "cell_type": "code",
   "execution_count": 28,
   "metadata": {},
   "outputs": [
    {
     "data": {
      "text/plain": [
       "0.45756656"
      ]
     },
     "execution_count": 28,
     "metadata": {},
     "output_type": "execute_result"
    }
   ],
   "source": [
    "minval = np.min(y[-2000:])\n",
    "minval"
   ]
  },
  {
   "cell_type": "code",
   "execution_count": 35,
   "metadata": {
    "scrolled": true
   },
   "outputs": [],
   "source": [
    "for idx, result in enumerate(y[:2871]):\n",
    "    if  minval < result < maxval:\n",
    "#         print(idx)\n",
    "        pass"
   ]
  },
  {
   "cell_type": "code",
   "execution_count": 30,
   "metadata": {},
   "outputs": [],
   "source": [
    "d = np.where(y > np.max(y[-2000:]))[0]"
   ]
  },
  {
   "cell_type": "code",
   "execution_count": 31,
   "metadata": {},
   "outputs": [
    {
     "name": "stdout",
     "output_type": "stream",
     "text": [
      "[   7    9   12   23   26   28   31   34   44   46   58   65   70   76\n",
      "   79   81   87  110  116  121  150  158  165  173  177  183  184  187\n",
      "  190  193  201  205  206  214  218  221  236  246  248  256  264  265\n",
      "  272  274  282  286  290  298  308  314  325  326  328  332  334  335\n",
      "  337  341  346  347  351  354  364  366  375  383  391  413  424  428\n",
      "  434  440  447  461  465  469  483  495  507  510  518  526  535  539\n",
      "  545  546  554  555  575  576  579  581  582  588  590  598  602  613\n",
      "  617  627  632  636  637  642  647  661  672  681  690  692  694  695\n",
      "  704  712  715  722  740  750  754  755  789  792  793  795  798  801\n",
      "  816  818  821  825  834  836  839  840  843  847  850  858  861  865\n",
      "  870  880  882  887  904  905  920  927  929  931  942  947  949  952\n",
      "  966  987  994  999 1010 1012 1021 1027 1029 1040 1047 1051 1052 1058\n",
      " 1059 1066 1071 1072 1074 1076 1079 1080 1090 1095 1135 1141 1155 1159\n",
      " 1173 1185 1189 1201 1204 1207 1208 1210 1217 1230 1239 1246 1253 1255\n",
      " 1257 1293 1299 1308 1319 1328 1335 1358 1359 1362 1364 1366 1367 1374\n",
      " 1399 1400 1402 1407 1414 1423 1424 1428 1431 1444 1455 1474 1482 1487\n",
      " 1495 1498 1500 1509 1511 1525 1527 1529 1530 1534 1535 1539 1546 1554\n",
      " 1556 1563 1567 1569 1577 1583 1585 1591 1594 1597 1603 1604 1605 1609\n",
      " 1612 1618 1629 1635 1665 1668 1674 1683 1696 1721 1722 1727 1728 1739\n",
      " 1747 1748 1752 1759 1761 1766 1788 1795 1803 1809 1814 1818 1823 1830\n",
      " 1831 1836 1842 1849 1855 1860 1864 1868 1870 1871 1876 1885 1886 1894\n",
      " 1895 1903 1906 1909 1913 1918 1920 1922 1924 1932 1936 1947 1948 1954\n",
      " 1968 1972 1975 1977 1988 2004 2009 2011 2016 2023 2037 2040 2056 2057\n",
      " 2062 2078 2088 2096 2099 2100 2107 2108 2110 2117 2121 2130 2133 2143\n",
      " 2147 2156 2159 2160 2164 2173 2178 2183 2208 2217 2218 2219 2229 2230\n",
      " 2236 2240 2246 2254 2259 2262 2267 2268 2274 2280 2293 2298 2306 2324\n",
      " 2326 2328 2347 2350 2351 2353 2354 2355 2363 2370 2376 2379 2383 2395\n",
      " 2397 2424 2433 2435 2446 2453 2454 2455 2460 2463 2468 2469 2472 2474\n",
      " 2482 2490 2508 2510 2516 2518 2521 2538 2539 2540 2553 2568 2592 2593\n",
      " 2596 2597 2599 2603 2605 2606 2617 2635 2636 2645 2651 2660 2662 2664\n",
      " 2666 2669 2682 2685 2703 2704 2724 2729 2741 2745 2746 2749 2757 2763\n",
      " 2771 2772 2790 2811 2812 2815 2821 2826 2833 2839 2840 2843 2851 2864\n",
      " 2867]\n"
     ]
    }
   ],
   "source": [
    "print(d)"
   ]
  },
  {
   "cell_type": "code",
   "execution_count": 33,
   "metadata": {},
   "outputs": [],
   "source": [
    "d2 = np.where(y < np.min(y[-2000:]))[0]"
   ]
  },
  {
   "cell_type": "code",
   "execution_count": 34,
   "metadata": {},
   "outputs": [
    {
     "name": "stdout",
     "output_type": "stream",
     "text": [
      "[ 188  415 1360 1891 2462]\n"
     ]
    }
   ],
   "source": [
    "print(d2)"
   ]
  },
  {
   "cell_type": "code",
   "execution_count": null,
   "metadata": {},
   "outputs": [],
   "source": []
  }
 ],
 "metadata": {
  "kernelspec": {
   "display_name": "Python [conda env:root] *",
   "language": "python",
   "name": "conda-root-py"
  },
  "language_info": {
   "codemirror_mode": {
    "name": "ipython",
    "version": 3
   },
   "file_extension": ".py",
   "mimetype": "text/x-python",
   "name": "python",
   "nbconvert_exporter": "python",
   "pygments_lexer": "ipython3",
   "version": "3.8.3"
  }
 },
 "nbformat": 4,
 "nbformat_minor": 4
}
