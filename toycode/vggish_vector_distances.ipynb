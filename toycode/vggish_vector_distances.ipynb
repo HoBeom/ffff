{
 "cells": [
  {
   "cell_type": "code",
   "execution_count": 1,
   "metadata": {},
   "outputs": [],
   "source": [
    "from os import path\n",
    "from glob import glob\n",
    "from tqdm import tqdm\n",
    "import torch"
   ]
  },
  {
   "cell_type": "code",
   "execution_count": 2,
   "metadata": {},
   "outputs": [
    {
     "name": "stderr",
     "output_type": "stream",
     "text": [
      "Using cache found in /root/.cache/torch/hub/harritaylor_torchvggish_master\n"
     ]
    }
   ],
   "source": [
    "model = torch.hub.load('harritaylor/torchvggish', 'vggish')\n",
    "model.eval()\n",
    "root = './total'\n",
    "filenames = glob(path.join(root,'*.wav'))\n",
    "# save file test\n",
    "result = torch.zeros((2871,3,128))\n",
    "# torch.save(result,'waveoutvggish.pt')\n",
    "# result = torch.load('waveoutvggish.pt')"
   ]
  },
  {
   "cell_type": "code",
   "execution_count": null,
   "metadata": {},
   "outputs": [
    {
     "name": "stderr",
     "output_type": "stream",
     "text": [
      " 57%|█████▋    | 1645/2871 [03:35<25:55,  1.27s/it]"
     ]
    }
   ],
   "source": [
    "for idx, data in enumerate(tqdm(filenames)):\n",
    "    result[idx] = model.forward(data)\n",
    "torch.save(result,'waveoutvggish.pt')"
   ]
  },
  {
   "cell_type": "code",
   "execution_count": 2,
   "metadata": {},
   "outputs": [],
   "source": [
    "result = torch.load('waveoutvggish.pt')\n",
    "result2 = torch.load('waveoutvggish2.pt')\n",
    "result3 = torch.load('waveoutvggish3.pt')"
   ]
  },
  {
   "cell_type": "code",
   "execution_count": 3,
   "metadata": {},
   "outputs": [],
   "source": [
    "result[1000:2000] = result2[:1000]"
   ]
  },
  {
   "cell_type": "code",
   "execution_count": 4,
   "metadata": {},
   "outputs": [],
   "source": [
    "result[2000:] = result3[:871]"
   ]
  },
  {
   "cell_type": "code",
   "execution_count": 5,
   "metadata": {},
   "outputs": [
    {
     "name": "stdout",
     "output_type": "stream",
     "text": [
      "tensor([[175.0000,   8.0150, 146.9809,  96.6381, 215.0000,  76.0000,  77.0000,\n",
      "         129.9418, 148.0000, 175.0000, 151.0000,  50.9997, 120.0000, 147.0000,\n",
      "         100.9996,  35.0000, 109.2515, 239.0648, 197.0742, 194.3145,   0.0000,\n",
      "         208.0226,  99.0073, 178.0902,  69.0885, 152.6576, 150.1689, 185.9028,\n",
      "         123.5378,  68.2334, 193.7238, 131.4761, 106.2006,  81.9073, 140.0000,\n",
      "         130.7106, 138.7872, 120.3720, 184.3302, 136.2045, 114.7997, 174.5733,\n",
      "          31.2926, 143.3065, 123.7217, 164.1533, 132.9986,  91.6803, 124.9202,\n",
      "         110.5259, 126.7673,  93.8098, 128.3048,  78.0756,  85.9993, 150.1588,\n",
      "         124.7335, 105.6587, 113.6419, 205.9167, 129.1877, 122.0355, 121.3608,\n",
      "          96.3163, 175.1996, 167.3877,  81.0526, 125.9937, 144.7074, 135.0812,\n",
      "         146.9039, 111.5134, 127.9105, 187.9833, 139.6054, 154.6475, 132.7677,\n",
      "         137.8722,  92.5622, 168.2598,  99.3117, 194.6155, 152.9996, 131.6102,\n",
      "          92.2010, 101.9279, 139.4145, 202.5399, 147.1292,  87.7691,  61.9808,\n",
      "         145.9087,  95.2382, 112.0756, 110.2058, 170.6496,  88.7569,  51.2550,\n",
      "         122.8680, 211.2205, 206.0467, 121.9554, 120.8861, 115.0070, 105.0711,\n",
      "         182.9916,  83.5611, 113.2201, 169.7119, 128.1616, 179.5312, 136.3912,\n",
      "          66.0289, 136.6904,  71.6750,  54.8276, 147.7938, 184.7328,  49.3588,\n",
      "         218.2177, 102.5653, 115.9777, 102.0456,  84.2017, 172.0435, 148.9174,\n",
      "          69.3448, 255.0000],\n",
      "        [175.0000,   8.0084, 146.9707,  96.6176, 215.0000,  76.0000,  77.0000,\n",
      "         129.9478, 148.0000, 174.9993, 151.0000,  51.0000, 120.0000, 147.0000,\n",
      "         100.9976,  35.0003, 109.2400, 239.0805, 197.0878, 194.3410,   0.0000,\n",
      "         208.0244,  99.0066, 178.0975,  69.0843, 152.6715, 150.1749, 185.9081,\n",
      "         123.5360,  68.2351, 193.7238, 131.4841, 106.1951,  81.8917, 140.0000,\n",
      "         130.6876, 138.7666, 120.3605, 184.3525, 136.2048, 114.7816, 174.5761,\n",
      "          31.2853, 143.2884, 123.7440, 164.1536, 132.9955,  91.6611, 124.9735,\n",
      "         110.5308, 126.7701,  93.8063, 128.2842,  78.0801,  85.9990, 150.1407,\n",
      "         124.7074, 105.6611, 113.6580, 205.9091, 129.1647, 122.0467, 121.3434,\n",
      "          96.2894, 175.2250, 167.3629,  81.0188, 126.0564, 144.7119, 135.0972,\n",
      "         146.9143, 111.5002, 127.9206, 187.9798, 139.6409, 154.6479, 132.7827,\n",
      "         137.8687,  92.5465, 168.2766,  99.2992, 194.6322, 152.9993, 131.6280,\n",
      "          92.2031, 101.9230, 139.4396, 202.5472, 147.1341,  87.7315,  61.9237,\n",
      "         145.9112,  95.2334, 112.0658, 110.1926, 170.6325,  88.7311,  51.2675,\n",
      "         122.8819, 211.2410, 206.0111, 121.9582, 120.9000, 115.0320, 105.0428,\n",
      "         182.9913,  83.5538, 113.1898, 169.6872, 128.0853, 179.5531, 136.3922,\n",
      "          65.9829, 136.6851,  71.6590,  54.8095, 147.7938, 184.7471,  49.4114,\n",
      "         218.2564, 102.5862, 115.9492, 102.0822,  84.2093, 172.0954, 148.9491,\n",
      "          69.3417, 255.0000],\n",
      "        [175.0000,   8.0108, 146.9687,  96.6444, 215.0000,  75.9996,  77.0000,\n",
      "         129.9349, 148.0000, 174.9996, 151.0000,  51.0000, 120.0000, 147.0000,\n",
      "         100.9996,  35.0000, 109.2511, 239.0759, 197.0784, 194.3250,   0.0000,\n",
      "         208.0303,  99.0105, 178.1014,  69.0961, 152.6691, 150.1790, 185.9056,\n",
      "         123.5583,  68.2473, 193.7130, 131.4817, 106.1992,  81.9105, 140.0000,\n",
      "         130.7018, 138.7865, 120.3511, 184.3333, 136.1857, 114.8025, 174.5768,\n",
      "          31.3037, 143.3009, 123.7332, 164.1592, 132.9955,  91.6768, 124.9370,\n",
      "         110.5740, 126.7760,  93.8095, 128.3006,  78.0822,  85.9996, 150.1665,\n",
      "         124.7377, 105.6688, 113.6437, 205.9105, 129.1877, 122.0456, 121.3567,\n",
      "          96.3145, 175.1842, 167.3856,  81.0153, 126.0056, 144.6980, 135.0801,\n",
      "         146.8945, 111.5214, 127.9053, 187.9857, 139.5925, 154.6385, 132.7645,\n",
      "         137.8774,  92.5639, 168.2651,  99.2978, 194.6176, 152.9983, 131.6186,\n",
      "          92.2066, 101.9248, 139.4131, 202.5364, 147.1292,  87.7597,  61.9502,\n",
      "         145.8861,  95.2097, 112.0773, 110.2090, 170.6468,  88.7398,  51.2508,\n",
      "         122.8527, 211.2184, 206.0261, 121.9634, 120.8715, 115.0254, 105.0752,\n",
      "         183.0056,  83.5792, 113.2149, 169.7210, 128.1365, 179.5138, 136.3849,\n",
      "          66.0174, 136.6872,  71.6796,  54.8401, 147.7698, 184.7412,  49.3612,\n",
      "         218.2267, 102.5834, 115.9749, 102.0533,  84.2323, 172.0805, 148.9223,\n",
      "          69.3372, 255.0000]], grad_fn=<MeanBackward1>)\n"
     ]
    }
   ],
   "source": [
    "print(torch.mean(result,0))"
   ]
  },
  {
   "cell_type": "code",
   "execution_count": 6,
   "metadata": {},
   "outputs": [],
   "source": [
    "torch.save(result,'vggishwavout.pt')"
   ]
  },
  {
   "cell_type": "code",
   "execution_count": 7,
   "metadata": {},
   "outputs": [],
   "source": [
    "vec_result = result.reshape((2871,-1))"
   ]
  },
  {
   "cell_type": "code",
   "execution_count": 8,
   "metadata": {},
   "outputs": [
    {
     "data": {
      "text/plain": [
       "torch.Size([2871, 384])"
      ]
     },
     "execution_count": 8,
     "metadata": {},
     "output_type": "execute_result"
    }
   ],
   "source": [
    "vec_result.size()"
   ]
  },
  {
   "cell_type": "code",
   "execution_count": 67,
   "metadata": {},
   "outputs": [
    {
     "name": "stdout",
     "output_type": "stream",
     "text": [
      "tensor([175.0000,   8.0150, 146.9809,  96.6381, 215.0000,  76.0000,  77.0000,\n",
      "        129.9418, 148.0000, 175.0000, 151.0000,  50.9997, 120.0000, 147.0000,\n",
      "        100.9996,  35.0000, 109.2515, 239.0648, 197.0742, 194.3145,   0.0000,\n",
      "        208.0226,  99.0073, 178.0902,  69.0885, 152.6576, 150.1689, 185.9028,\n",
      "        123.5378,  68.2334, 193.7238, 131.4761, 106.2006,  81.9073, 140.0000,\n",
      "        130.7106, 138.7872, 120.3720, 184.3302, 136.2045, 114.7997, 174.5733,\n",
      "         31.2926, 143.3065, 123.7217, 164.1533, 132.9986,  91.6803, 124.9202,\n",
      "        110.5259, 126.7673,  93.8098, 128.3048,  78.0756,  85.9993, 150.1588,\n",
      "        124.7335, 105.6587, 113.6419, 205.9167, 129.1877, 122.0355, 121.3608,\n",
      "         96.3163, 175.1996, 167.3877,  81.0526, 125.9937, 144.7074, 135.0812,\n",
      "        146.9039, 111.5134, 127.9105, 187.9833, 139.6054, 154.6475, 132.7677,\n",
      "        137.8722,  92.5622, 168.2598,  99.3117, 194.6155, 152.9996, 131.6102,\n",
      "         92.2010, 101.9279, 139.4145, 202.5399, 147.1292,  87.7691,  61.9808,\n",
      "        145.9087,  95.2382, 112.0756, 110.2058, 170.6496,  88.7569,  51.2550,\n",
      "        122.8680, 211.2205, 206.0467, 121.9554, 120.8861, 115.0070, 105.0711,\n",
      "        182.9916,  83.5611, 113.2201, 169.7119, 128.1616, 179.5312, 136.3912,\n",
      "         66.0289, 136.6904,  71.6750,  54.8276, 147.7938, 184.7328,  49.3588,\n",
      "        218.2177, 102.5653, 115.9777, 102.0456,  84.2017, 172.0435, 148.9174,\n",
      "         69.3448, 255.0000, 175.0000,   8.0084, 146.9707,  96.6176, 215.0000,\n",
      "         76.0000,  77.0000, 129.9478, 148.0000, 174.9993, 151.0000,  51.0000,\n",
      "        120.0000, 147.0000, 100.9976,  35.0003, 109.2400, 239.0805, 197.0878,\n",
      "        194.3410,   0.0000, 208.0244,  99.0066, 178.0975,  69.0843, 152.6715,\n",
      "        150.1749, 185.9081, 123.5360,  68.2351, 193.7238, 131.4841, 106.1951,\n",
      "         81.8917, 140.0000, 130.6876, 138.7666, 120.3605, 184.3525, 136.2048,\n",
      "        114.7816, 174.5761,  31.2853, 143.2884, 123.7440, 164.1536, 132.9955,\n",
      "         91.6611, 124.9735, 110.5308, 126.7701,  93.8063, 128.2842,  78.0801,\n",
      "         85.9990, 150.1407, 124.7074, 105.6611, 113.6580, 205.9091, 129.1647,\n",
      "        122.0467, 121.3434,  96.2894, 175.2250, 167.3629,  81.0188, 126.0564,\n",
      "        144.7119, 135.0972, 146.9143, 111.5002, 127.9206, 187.9798, 139.6409,\n",
      "        154.6479, 132.7827, 137.8687,  92.5465, 168.2766,  99.2992, 194.6322,\n",
      "        152.9993, 131.6280,  92.2031, 101.9230, 139.4396, 202.5472, 147.1341,\n",
      "         87.7315,  61.9237, 145.9112,  95.2334, 112.0658, 110.1926, 170.6325,\n",
      "         88.7311,  51.2675, 122.8819, 211.2410, 206.0111, 121.9582, 120.9000,\n",
      "        115.0320, 105.0428, 182.9913,  83.5538, 113.1898, 169.6872, 128.0853,\n",
      "        179.5531, 136.3922,  65.9829, 136.6851,  71.6590,  54.8095, 147.7938,\n",
      "        184.7471,  49.4114, 218.2564, 102.5862, 115.9492, 102.0822,  84.2093,\n",
      "        172.0954, 148.9491,  69.3417, 255.0000, 175.0000,   8.0108, 146.9687,\n",
      "         96.6444, 215.0000,  75.9996,  77.0000, 129.9349, 148.0000, 174.9996,\n",
      "        151.0000,  51.0000, 120.0000, 147.0000, 100.9996,  35.0000, 109.2511,\n",
      "        239.0759, 197.0784, 194.3250,   0.0000, 208.0303,  99.0105, 178.1014,\n",
      "         69.0961, 152.6691, 150.1790, 185.9056, 123.5583,  68.2473, 193.7130,\n",
      "        131.4817, 106.1992,  81.9105, 140.0000, 130.7018, 138.7865, 120.3511,\n",
      "        184.3333, 136.1857, 114.8025, 174.5768,  31.3037, 143.3009, 123.7332,\n",
      "        164.1592, 132.9955,  91.6768, 124.9370, 110.5740, 126.7760,  93.8095,\n",
      "        128.3006,  78.0822,  85.9996, 150.1665, 124.7377, 105.6688, 113.6437,\n",
      "        205.9105, 129.1877, 122.0456, 121.3567,  96.3145, 175.1842, 167.3856,\n",
      "         81.0153, 126.0056, 144.6980, 135.0801, 146.8945, 111.5214, 127.9053,\n",
      "        187.9857, 139.5925, 154.6385, 132.7645, 137.8774,  92.5639, 168.2651,\n",
      "         99.2978, 194.6176, 152.9983, 131.6186,  92.2066, 101.9248, 139.4131,\n",
      "        202.5364, 147.1292,  87.7597,  61.9502, 145.8861,  95.2097, 112.0773,\n",
      "        110.2090, 170.6468,  88.7398,  51.2508, 122.8527, 211.2184, 206.0261,\n",
      "        121.9634, 120.8715, 115.0254, 105.0752, 183.0056,  83.5792, 113.2149,\n",
      "        169.7210, 128.1365, 179.5138, 136.3849,  66.0174, 136.6872,  71.6796,\n",
      "         54.8401, 147.7698, 184.7412,  49.3612, 218.2267, 102.5834, 115.9749,\n",
      "        102.0533,  84.2323, 172.0805, 148.9223,  69.3372, 255.0000],\n",
      "       grad_fn=<MeanBackward1>)\n"
     ]
    }
   ],
   "source": [
    "print(torch.mean(vec_result,0))\n",
    "mean_vec = torch.mean(vec_result,0)"
   ]
  },
  {
   "cell_type": "code",
   "execution_count": 10,
   "metadata": {},
   "outputs": [
    {
     "name": "stdout",
     "output_type": "stream",
     "text": [
      "tensor([[ 8.3666,  8.3066,  8.1548,  ..., 10.5357, 12.3085,  8.9722]],\n",
      "       grad_fn=<ViewBackward>)\n"
     ]
    }
   ],
   "source": [
    "dist_vec = torch.cdist(mean_vec.reshape(1,-1), vec_result)\n",
    "print(dist_vec)"
   ]
  },
  {
   "cell_type": "code",
   "execution_count": 11,
   "metadata": {},
   "outputs": [
    {
     "data": {
      "text/plain": [
       "tensor(5.3385, grad_fn=<MinBackward1>)"
      ]
     },
     "execution_count": 11,
     "metadata": {},
     "output_type": "execute_result"
    }
   ],
   "source": [
    "torch.min(dist_vec)"
   ]
  },
  {
   "cell_type": "code",
   "execution_count": 12,
   "metadata": {},
   "outputs": [
    {
     "data": {
      "text/plain": [
       "tensor(28.1869, grad_fn=<MaxBackward1>)"
      ]
     },
     "execution_count": 12,
     "metadata": {},
     "output_type": "execute_result"
    }
   ],
   "source": [
    "torch.max(dist_vec)"
   ]
  },
  {
   "cell_type": "code",
   "execution_count": 13,
   "metadata": {},
   "outputs": [],
   "source": [
    "np_dist_vec = dist_vec.detach().numpy()[0]"
   ]
  },
  {
   "cell_type": "code",
   "execution_count": 14,
   "metadata": {},
   "outputs": [
    {
     "data": {
      "text/plain": [
       "[<matplotlib.lines.Line2D at 0x7f09a86fbfd0>]"
      ]
     },
     "execution_count": 14,
     "metadata": {},
     "output_type": "execute_result"
    },
    {
     "data": {
      "image/png": "[encoded data removed]",
      "text/plain": [
       "<Figure size 432x288 with 1 Axes>"
      ]
     },
     "metadata": {
      "needs_background": "light"
     },
     "output_type": "display_data"
    }
   ],
   "source": [
    "import matplotlib.pyplot as plt\n",
    "plt.plot(np_dist_vec)"
   ]
  },
  {
   "cell_type": "code",
   "execution_count": 15,
   "metadata": {},
   "outputs": [
    {
     "name": "stdout",
     "output_type": "stream",
     "text": [
      "104\n",
      "348\n",
      "433\n",
      "577\n",
      "773\n",
      "988\n",
      "1258\n",
      "2272\n"
     ]
    }
   ],
   "source": [
    "for idx, data in enumerate(np_dist_vec):\n",
    "    if data > 19:\n",
    "        print(idx)"
   ]
  },
  {
   "cell_type": "code",
   "execution_count": 16,
   "metadata": {},
   "outputs": [],
   "source": [
    "nomalize_vec = np_dist_vec / max(np_dist_vec)"
   ]
  },
  {
   "cell_type": "code",
   "execution_count": 17,
   "metadata": {
    "scrolled": true
   },
   "outputs": [
    {
     "data": {
      "text/plain": [
       "[<matplotlib.lines.Line2D at 0x7f09a8663670>]"
      ]
     },
     "execution_count": 17,
     "metadata": {},
     "output_type": "execute_result"
    },
    {
     "data": {
      "image/png": "[encoded data removed]",
      "text/plain": [
       "<Figure size 432x288 with 1 Axes>"
      ]
     },
     "metadata": {
      "needs_background": "light"
     },
     "output_type": "display_data"
    }
   ],
   "source": [
    "plt.plot(nomalize_vec)"
   ]
  },
  {
   "cell_type": "code",
   "execution_count": 75,
   "metadata": {},
   "outputs": [
    {
     "name": "stdout",
     "output_type": "stream",
     "text": [
      "1258\n"
     ]
    }
   ],
   "source": [
    "for idx, data in enumerate(nomalize_vec):\n",
    "    if data > 0.9:\n",
    "        print(idx)"
   ]
  },
  {
   "cell_type": "code",
   "execution_count": 76,
   "metadata": {},
   "outputs": [
    {
     "name": "stdout",
     "output_type": "stream",
     "text": [
      "1258\n"
     ]
    }
   ],
   "source": [
    "for idx, data in enumerate(nomalize_vec):\n",
    "    if data > 0.8:\n",
    "        print(idx)"
   ]
  },
  {
   "cell_type": "code",
   "execution_count": 74,
   "metadata": {},
   "outputs": [
    {
     "name": "stdout",
     "output_type": "stream",
     "text": [
      "577\n",
      "773\n",
      "1258\n"
     ]
    }
   ],
   "source": [
    "for idx, data in enumerate(nomalize_vec):\n",
    "    if data > 0.7:\n",
    "        print(idx)"
   ]
  },
  {
   "cell_type": "code",
   "execution_count": 18,
   "metadata": {},
   "outputs": [
    {
     "name": "stdout",
     "output_type": "stream",
     "text": [
      "104\n",
      "348\n",
      "433\n",
      "490\n",
      "521\n",
      "577\n",
      "699\n",
      "773\n",
      "777\n",
      "854\n",
      "914\n",
      "918\n",
      "975\n",
      "988\n",
      "1258\n",
      "1347\n",
      "1559\n",
      "1826\n",
      "1863\n",
      "1866\n",
      "1949\n",
      "2026\n",
      "2272\n",
      "2381\n",
      "2426\n",
      "2693\n",
      "2866\n"
     ]
    }
   ],
   "source": [
    "for idx, data in enumerate(nomalize_vec):\n",
    "    if data > 0.6:\n",
    "        print(idx)"
   ]
  },
  {
   "cell_type": "code",
   "execution_count": 91,
   "metadata": {},
   "outputs": [
    {
     "name": "stdout",
     "output_type": "stream",
     "text": [
      "969\n"
     ]
    }
   ],
   "source": [
    "c = 0\n",
    "for idx, data in enumerate(nomalize_vec):\n",
    "    if data > 0.375:\n",
    "#         print(idx)\n",
    "        c+=1\n",
    "print(c)"
   ]
  },
  {
   "cell_type": "code",
   "execution_count": 46,
   "metadata": {},
   "outputs": [],
   "source": [
    "from sklearn.cluster import KMeans"
   ]
  },
  {
   "cell_type": "code",
   "execution_count": 50,
   "metadata": {},
   "outputs": [
    {
     "data": {
      "text/plain": [
       "array([0, 0, 0, ..., 0, 1, 1], dtype=int32)"
      ]
     },
     "execution_count": 50,
     "metadata": {},
     "output_type": "execute_result"
    }
   ],
   "source": [
    "kmeans = KMeans(n_clusters=2, random_state=0).fit(vec_result.detach().numpy())\n",
    "kmeans.labels_"
   ]
  },
  {
   "cell_type": "code",
   "execution_count": 70,
   "metadata": {},
   "outputs": [
    {
     "data": {
      "text/plain": [
       "array([[175.      ,   8.001568, 146.98851 ,  96.5627  , 215.      ,\n",
       "         76.      ,  77.      , 129.9953  , 148.      , 175.      ,\n",
       "        151.      ,  51.      , 120.      , 147.      , 101.      ,\n",
       "         35.      , 109.087776, 239.24817 , 197.0883  , 194.41588 ,\n",
       "          0.      , 208.01254 ,  99.003136, 178.1374  ,  69.00627 ,\n",
       "        152.75392 , 150.22937 , 185.97963 , 123.55277 ,  68.264366,\n",
       "        193.80408 , 131.64159 , 106.202194,  81.88192 , 140.      ,\n",
       "        130.59352 , 138.7466  , 120.22048 , 184.45193 , 136.17189 ,\n",
       "        114.68652 , 174.5815  ,  31.278997, 143.1233  , 123.91484 ,\n",
       "        164.21786 , 133.00104 ,  91.599266, 125.21212 , 110.51045 ,\n",
       "        126.83752 ,  93.764366, 128.12225 ,  78.11128 ,  86.      ,\n",
       "        150.01045 , 124.516716, 105.574715, 113.8302  , 205.92633 ,\n",
       "        128.9253  , 122.0559  , 121.27952 ,  96.05329 , 175.38402 ,\n",
       "        167.15517 ,  80.85319 , 126.35737 , 144.86938 , 135.08516 ,\n",
       "        147.01724 , 111.2628  , 128.05121 , 187.98067 , 139.81505 ,\n",
       "        154.53134 , 132.94463 , 137.88557 ,  92.28056 , 168.28893 ,\n",
       "         99.108154, 194.75444 , 153.      , 131.9002  ,  92.35946 ,\n",
       "        101.89916 , 139.6745  , 202.52142 , 147.12958 ,  87.53082 ,\n",
       "         61.670845, 145.95088 ,  95.02194 , 112.016716, 110.077324,\n",
       "        170.50418 ,  88.63428 ,  51.47074 , 122.94148 , 211.41223 ,\n",
       "        205.72153 , 122.117035, 120.97806 , 115.21003 , 104.82967 ,\n",
       "        183.01202 ,  83.322365, 112.921104, 169.5465  , 127.6442  ,\n",
       "        179.73877 , 136.31453 ,  65.61128 , 136.71474 ,  71.465   ,\n",
       "         54.651516, 147.9535  , 184.91693 ,  49.584118, 218.45088 ,\n",
       "        102.72414 , 115.79728 , 102.31191 ,  84.373566, 172.38348 ,\n",
       "        149.34901 ,  69.41745 , 255.      , 175.      ,   8.001045,\n",
       "        146.9859  ,  96.56949 , 215.      ,  76.      ,  77.      ,\n",
       "        129.99269 , 148.      , 175.      , 151.      ,  51.      ,\n",
       "        120.      , 147.      , 100.99948 ,  35.      , 109.07994 ,\n",
       "        239.24086 , 197.08307 , 194.42581 ,   0.      , 208.01254 ,\n",
       "         99.00209 , 178.13428 ,  69.00627 , 152.78317 , 150.22101 ,\n",
       "        185.98119 , 123.565834,  68.2884  , 193.78265 , 131.6489  ,\n",
       "        106.21735 ,  81.902824, 140.      , 130.58882 , 138.75496 ,\n",
       "        120.19227 , 184.47127 , 136.14001 , 114.695404, 174.56844 ,\n",
       "         31.289968, 143.11024 , 123.92842 , 164.19853 , 133.00052 ,\n",
       "         91.606064, 125.235634, 110.54023 , 126.86102 ,  93.77534 ,\n",
       "        128.1118  ,  78.12487 ,  85.99948 , 150.00627 , 124.5115  ,\n",
       "        105.614944, 113.835945, 205.93364 , 128.94148 , 122.07785 ,\n",
       "        121.242424,  96.04859 , 175.38036 , 167.14838 ,  80.8302  ,\n",
       "        126.36102 , 144.87566 , 135.0977  , 147.01515 , 111.251305,\n",
       "        128.06322 , 187.9791  , 139.78893 , 154.523   , 132.93678 ,\n",
       "        137.88557 ,  92.27325 , 168.28162 ,  99.09405 , 194.73198 ,\n",
       "        153.      , 131.92476 ,  92.36155 , 101.90387 , 139.686   ,\n",
       "        202.52351 , 147.10919 ,  87.501045,  61.630615, 145.90752 ,\n",
       "         94.98119 , 112.01985 , 110.06165 , 170.49478 ,  88.59613 ,\n",
       "         51.488506, 122.91954 , 211.39708 , 205.70116 , 122.17242 ,\n",
       "        120.97806 , 115.22623 , 104.85058 , 183.0209  ,  83.329155,\n",
       "        112.92842 , 169.56009 , 127.60502 , 179.72937 , 136.27429 ,\n",
       "         65.581505, 136.74034 ,  71.454544,  54.676594, 147.95403 ,\n",
       "        184.9185  ,  49.602924, 218.46342 , 102.74712 , 115.77482 ,\n",
       "        102.32184 ,  84.4279  , 172.45663 , 149.37305 ,  69.41013 ,\n",
       "        255.      , 175.      ,   8.001045, 146.98642 ,  96.59561 ,\n",
       "        215.      ,  75.99948 ,  77.      , 129.99321 , 148.      ,\n",
       "        175.      , 151.      ,  51.      , 120.      , 147.      ,\n",
       "        101.      ,  35.      , 109.07523 , 239.25444 , 197.08203 ,\n",
       "        194.41432 ,   0.      , 208.01254 ,  99.001564, 178.14734 ,\n",
       "         69.001564, 152.79677 , 150.23407 , 185.99007 , 123.60293 ,\n",
       "         68.30303 , 193.77063 , 131.65256 , 106.222046,  81.915886,\n",
       "        140.      , 130.5951  , 138.77795 , 120.17242 , 184.4467  ,\n",
       "        136.11913 , 114.7116  , 174.58412 ,  31.318182, 143.11234 ,\n",
       "        123.9326  , 164.21683 , 133.      ,  91.621735, 125.21265 ,\n",
       "        110.58046 , 126.88245 ,  93.77691 , 128.1186  ,  78.12696 ,\n",
       "         86.      , 150.02142 , 124.52403 , 105.60711 , 113.829155,\n",
       "        205.9326  , 128.93939 , 122.07628 , 121.24503 ,  96.045975,\n",
       "        175.35371 , 167.14995 ,  80.80982 , 126.33908 , 144.87408 ,\n",
       "        135.0747  , 147.      , 111.258095, 128.07    , 187.98381 ,\n",
       "        139.75444 , 154.50104 , 132.9347  , 137.89445 ,  92.26541 ,\n",
       "        168.26384 ,  99.079414, 194.72728 , 153.      , 131.93782 ,\n",
       "         92.38245 , 101.90387 , 139.67816 , 202.50679 , 147.10555 ,\n",
       "         87.51045 ,  61.64002 , 145.87984 ,  94.9441  , 112.02351 ,\n",
       "        110.05956 , 170.49007 ,  88.612854,  51.49582 , 122.887146,\n",
       "        211.39603 , 205.68495 , 122.19592 , 120.958206, 115.235634,\n",
       "        104.87304 , 183.02979 ,  83.34117 , 112.92477 , 169.5815  ,\n",
       "        127.61233 , 179.70847 , 136.25026 ,  65.58987 , 136.74295 ,\n",
       "         71.45716 ,  54.690178, 147.95403 , 184.92476 ,  49.54911 ,\n",
       "        218.44148 , 102.74765 , 115.782135, 102.32341 ,  84.456116,\n",
       "        172.4582  , 149.38297 ,  69.42895 , 255.      ],\n",
       "       [175.      ,   8.041798, 146.96552 ,  96.788925, 215.      ,\n",
       "         76.      ,  77.      , 129.8349  , 148.      , 175.      ,\n",
       "        151.      ,  50.998955, 120.      , 147.      , 100.998955,\n",
       "         35.      , 109.578896, 238.69801 , 197.04597 , 194.1118  ,\n",
       "          0.      , 208.04285 ,  99.01567 , 177.99582 ,  69.25288 ,\n",
       "        152.465   , 150.04807 , 185.74922 , 123.507835,  68.17137 ,\n",
       "        193.56322 , 131.14525 , 106.197495,  81.958206, 140.      ,\n",
       "        130.94463 , 138.86833 , 120.675026, 184.08673 , 136.26959 ,\n",
       "        115.02612 , 174.55695 ,  31.31975 , 143.67294 , 123.33543 ,\n",
       "        164.02403 , 132.99373 ,  91.84222 , 124.33647 , 110.556946,\n",
       "        126.62696 ,  93.900734, 128.6698  ,  78.00418 ,  85.99791 ,\n",
       "        150.4556  , 125.16719 , 105.82654 , 113.26541 , 205.8976  ,\n",
       "        129.71265 , 121.994774, 121.52351 ,  96.84222 , 174.83072 ,\n",
       "        167.85266 ,  81.45141 , 125.26646 , 144.38348 , 135.07315 ,\n",
       "        146.67711 , 112.014626, 127.62905 , 187.98851 , 139.186   ,\n",
       "        154.87984 , 132.41379 , 137.84535 ,  93.12539 , 168.20168 ,\n",
       "         99.71891 , 194.33751 , 152.99896 , 131.0303  ,  91.88401 ,\n",
       "        101.985374, 138.89445 , 202.5768  , 147.12852 ,  88.24556 ,\n",
       "         62.600838, 145.82445 ,  95.670845, 112.19331 , 110.462906,\n",
       "        170.94044 ,  89.00209 ,  50.823406, 122.721   , 210.83699 ,\n",
       "        206.69698 , 121.63219 , 120.702194, 114.60084 , 105.55382 ,\n",
       "        182.95088 ,  84.038666, 113.818184, 170.04285 , 129.19644 ,\n",
       "        179.11598 , 136.5444  ,  66.86416 , 136.64159 ,  72.095085,\n",
       "         55.17973 , 147.4744  , 184.36469 ,  48.908047, 217.75131 ,\n",
       "        102.24765 , 116.338554, 101.51306 ,  83.85789 , 171.36363 ,\n",
       "        148.05434 ,  69.199585, 255.      , 175.      ,   8.022988,\n",
       "        146.94044 ,  96.71369 , 215.      ,  76.      ,  77.      ,\n",
       "        129.8579  , 148.      , 174.99791 , 151.      ,  51.      ,\n",
       "        120.      , 147.      , 100.99373 ,  35.001045, 109.56008 ,\n",
       "        238.75966 , 197.09718 , 194.17137 ,   0.      , 208.04807 ,\n",
       "         99.01567 , 178.02403 ,  69.24033 , 152.44827 , 150.08255 ,\n",
       "        185.76175 , 123.47649 ,  68.128525, 193.60606 , 131.15465 ,\n",
       "        106.15047 ,  81.869385, 140.      , 130.88506 , 138.78996 ,\n",
       "        120.69697 , 184.11494 , 136.33438 , 114.954025, 174.59143 ,\n",
       "         31.275862, 143.64473 , 123.37513 , 164.06374 , 132.98537 ,\n",
       "         91.77116 , 124.44932 , 110.51202 , 126.588295,  93.86834 ,\n",
       "        128.62904 ,  77.99059 ,  85.99791 , 150.4096  , 125.099266,\n",
       "        105.753395, 113.30199 , 205.85999 , 129.61128 , 121.98433 ,\n",
       "        121.545456,  96.77116 , 174.91432 , 167.79205 ,  81.39603 ,\n",
       "        125.44723 , 144.38454 , 135.09613 , 146.71265 , 111.99791 ,\n",
       "        127.635315, 187.98119 , 139.34483 , 154.8976  , 132.4744  ,\n",
       "        137.8349  ,  93.093   , 168.26646 ,  99.70951 , 194.4326  ,\n",
       "        152.99791 , 131.03448 ,  91.8861  , 101.961334, 138.9467  ,\n",
       "        202.59457 , 147.18391 ,  88.19227 ,  62.509926, 145.9185  ,\n",
       "         95.737724, 112.15778 , 110.454544, 170.90805 ,  89.001045,\n",
       "         50.825497, 122.80669 , 210.92894 , 206.63113 , 121.52978 ,\n",
       "        120.74399 , 114.64368 , 105.427376, 182.93208 ,  84.003136,\n",
       "        113.71265 , 169.94148 , 129.04597 , 179.20062 , 136.628   ,\n",
       "         66.78579 , 136.5747  ,  72.06792 ,  55.075233, 147.47336 ,\n",
       "        184.40439 ,  49.028214, 217.84221 , 102.264366, 116.297806,\n",
       "        101.60293 ,  83.7722  , 171.37305 , 148.10136 ,  69.2048  ,\n",
       "        255.      , 175.      ,   8.030303, 146.93312 ,  96.741905,\n",
       "        215.      ,  76.      ,  77.      , 129.81818 , 148.      ,\n",
       "        174.99896 , 151.      ,  51.      , 120.      , 147.      ,\n",
       "        100.998955,  35.      , 109.60293 , 238.71892 , 197.07106 ,\n",
       "        194.14629 ,   0.      , 208.06583 ,  99.02821 , 178.0094  ,\n",
       "         69.28526 , 152.41379 , 150.06897 , 185.73668 , 123.46918 ,\n",
       "         68.13584 , 193.5977  , 131.14001 , 106.1536  ,  81.89969 ,\n",
       "        140.      , 130.91536 , 138.80356 , 120.708466, 184.10658 ,\n",
       "        136.31871 , 114.98433 , 174.56218 ,  31.274817, 143.67816 ,\n",
       "        123.33438 , 164.04388 , 132.98642 ,  91.786835, 124.38558 ,\n",
       "        110.56113 , 126.56322 ,  93.87461 , 128.66458 ,  77.99268 ,\n",
       "         85.998955, 150.45663 , 125.1651  , 105.79206 , 113.27273 ,\n",
       "        205.86624 , 129.68443 , 121.98433 , 121.57994 ,  96.851616,\n",
       "        174.84535 , 167.85684 ,  81.42633 , 125.338554, 144.34587 ,\n",
       "        135.09091 , 146.68338 , 112.048065, 127.57576 , 187.98955 ,\n",
       "        139.26855 , 154.91327 , 132.42424 , 137.84326 ,  93.16092 ,\n",
       "        168.2675  ,  99.73459 , 194.39812 , 152.99478 , 130.98015 ,\n",
       "         91.85475 , 101.96656 , 138.88297 , 202.59561 , 147.17659 ,\n",
       "         88.258095,  62.570534, 145.89864 ,  95.74086 , 112.18495 ,\n",
       "        110.507835, 170.9603  ,  88.99373 ,  50.76071 , 122.7837  ,\n",
       "        210.86311 , 206.70847 , 121.498436, 120.69801 , 114.60502 ,\n",
       "        105.47962 , 182.95715 ,  84.05538 , 113.7952  , 170.      ,\n",
       "        129.18495 , 179.12434 , 136.65413 ,  66.87252 , 136.57576 ,\n",
       "         72.124344,  55.140022, 147.40126 , 184.37408 ,  48.98537 ,\n",
       "        217.79729 , 102.25497 , 116.360504, 101.51306 ,  83.784744,\n",
       "        171.32497 , 148.00104 ,  69.1536  , 255.      ]], dtype=float32)"
      ]
     },
     "execution_count": 70,
     "metadata": {},
     "output_type": "execute_result"
    }
   ],
   "source": [
    "kmeans.cluster_centers_"
   ]
  },
  {
   "cell_type": "code",
   "execution_count": 69,
   "metadata": {},
   "outputs": [
    {
     "data": {
      "text/plain": [
       "(2, 384)"
      ]
     },
     "execution_count": 69,
     "metadata": {},
     "output_type": "execute_result"
    }
   ],
   "source": [
    "kmeans.cluster_centers_.shape"
   ]
  },
  {
   "cell_type": "code",
   "execution_count": 71,
   "metadata": {},
   "outputs": [
    {
     "data": {
      "text/plain": [
       "array([175.       ,   8.014977 , 146.98085  ,  96.63811  , 215.       ,\n",
       "        76.       ,  77.       , 129.94183  , 148.       , 175.       ,\n",
       "       151.       ,  50.999653 , 120.       , 147.       , 100.99965  ,\n",
       "        35.       , 109.25148  , 239.06479  , 197.07419  , 194.31453  ,\n",
       "         0.       , 208.02264  ,  99.00732  , 178.09021  ,  69.08847  ,\n",
       "       152.65761  , 150.16893  , 185.90282  , 123.53779  ,  68.23337  ,\n",
       "       193.72379  , 131.47614  , 106.20063  ,  81.90735  , 140.       ,\n",
       "       130.71056  , 138.78719  , 120.371994 , 184.3302   , 136.20445  ,\n",
       "       114.79972  , 174.57332  ,  31.292582 , 143.30652  , 123.7217   ,\n",
       "       164.15326  , 132.99861  ,  91.68025  , 124.920235 , 110.52595  ,\n",
       "       126.76733  ,  93.80982  , 128.30478  ,  78.075584 ,  85.999306 ,\n",
       "       150.15883  , 124.73354  , 105.65865  , 113.64194  , 205.91675  ,\n",
       "       129.18774  , 122.03553  , 121.36085  ,  96.31627  , 175.19958  ,\n",
       "       167.38766  ,  81.0526   , 125.99373  , 144.70741  , 135.08116  ,\n",
       "       146.90387  , 111.51341  , 127.910484 , 187.98328  , 139.60536  ,\n",
       "       154.6475   , 132.76767  , 137.87218  ,  92.56217  , 168.25984  ,\n",
       "        99.31174  , 194.61546  , 152.99965  , 131.61024  ,  92.20097  ,\n",
       "       101.9279   , 139.41449  , 202.53989  , 147.12923  ,  87.76907  ,\n",
       "        61.980843 , 145.90874  ,  95.23824  , 112.075584 , 110.20585  ,\n",
       "       170.6496   ,  88.75688  ,  51.254963 , 122.86799  , 211.22047  ,\n",
       "       206.04668  , 121.955414 , 120.8861   , 115.006966 , 105.07105  ,\n",
       "       182.99164  ,  83.56113  , 113.22013  , 169.71194  , 128.16162  ,\n",
       "       179.53117  , 136.39116  ,  66.02891  , 136.69035  ,  71.675026 ,\n",
       "        54.827587 , 147.7938   , 184.73285  ,  49.35876  , 218.2177   ,\n",
       "       102.56531  , 115.97771  , 102.04563  ,  84.201675 , 172.04353  ,\n",
       "       148.91745  ,  69.344826 , 255.       , 175.       ,   8.00836  ,\n",
       "       146.97075  ,  96.61755  , 215.       ,  76.       ,  77.       ,\n",
       "       129.94775  , 148.       , 174.9993   , 151.       ,  51.       ,\n",
       "       120.       , 147.       , 100.99756  ,  35.000347 , 109.23998  ,\n",
       "       239.08046  , 197.08777  , 194.341    ,   0.       , 208.02438  ,\n",
       "        99.006615 , 178.09753  ,  69.08429  , 152.67154  , 150.17485  ,\n",
       "       185.90805  , 123.53605  ,  68.23511  , 193.72379  , 131.48415  ,\n",
       "       106.19505  ,  81.89168  , 140.       , 130.68756  , 138.76663  ,\n",
       "       120.360504 , 184.3525   , 136.2048   , 114.78161  , 174.57611  ,\n",
       "        31.285267 , 143.2884   , 123.74399  , 164.15361  , 132.99547  ,\n",
       "        91.661095 , 124.973526 , 110.53082  , 126.77012  ,  93.806335 ,\n",
       "       128.28423  ,  78.08011  ,  85.998955 , 150.14072  , 124.70742  ,\n",
       "       105.661095 , 113.65796  , 205.90909  , 129.16475  , 122.04668  ,\n",
       "       121.34344  ,  96.289444 , 175.225    , 167.36295  ,  81.01881  ,\n",
       "       126.05643  , 144.71194  , 135.09718  , 146.91432  , 111.500175 ,\n",
       "       127.920586 , 187.9798   , 139.64088  , 154.64786  , 132.78265  ,\n",
       "       137.86868  ,  92.5465   , 168.27657  ,  99.2992   , 194.63219  ,\n",
       "       152.9993   , 131.628    ,  92.203064 , 101.92303  , 139.43958  ,\n",
       "       202.5472   , 147.1341   ,  87.73145  ,  61.92372  , 145.91118  ,\n",
       "        95.23337  , 112.065834 , 110.19262  , 170.63254  ,  88.7311   ,\n",
       "        51.2675   , 122.88192  , 211.24103  , 206.01114  , 121.958206 ,\n",
       "       120.90003  , 115.03204  , 105.04284  , 182.99129  ,  83.55382  ,\n",
       "       113.18983  , 169.68721  , 128.08534  , 179.55312  , 136.3922   ,\n",
       "        65.98293  , 136.68512  ,  71.659004 ,  54.809475 , 147.7938   ,\n",
       "       184.74713  ,  49.411354 , 218.25636  , 102.586205 , 115.94915  ,\n",
       "       102.0822   ,  84.209335 , 172.09544  , 148.94914  ,  69.34169  ,\n",
       "       255.       , 175.       ,   8.0107975, 146.96866  ,  96.64437  ,\n",
       "       215.       ,  75.99965  ,  77.       , 129.93486  , 148.       ,\n",
       "       174.99965  , 151.       ,  51.       , 120.       , 147.       ,\n",
       "       100.99965  ,  35.       , 109.25113  , 239.07593  , 197.07837  ,\n",
       "       194.32497  ,   0.       , 208.0303   ,  99.01045  , 178.10136  ,\n",
       "        69.09613  , 152.6691   , 150.17903  , 185.90561  , 123.55834  ,\n",
       "        68.2473   , 193.713    , 131.48172  , 106.199234 ,  81.910484 ,\n",
       "       140.       , 130.70184  , 138.78648  , 120.3511   , 184.33333  ,\n",
       "       136.18565  , 114.802505 , 174.5768   ,  31.303726 , 143.30093  ,\n",
       "       123.73319  , 164.15918  , 132.99547  ,  91.676765 , 124.93696  ,\n",
       "       110.57401  , 126.77604  ,  93.80947  , 128.3006   ,  78.0822   ,\n",
       "        85.99965  , 150.16649  , 124.737724 , 105.668755 , 113.64368  ,\n",
       "       205.91048  , 129.18774  , 122.04563  , 121.35667  ,  96.31452  ,\n",
       "       175.18425  , 167.38557  ,  81.01533  , 126.00557  , 144.69801  ,\n",
       "       135.08011  , 146.89445  , 111.52142  , 127.90526  , 187.98572  ,\n",
       "       139.59248  , 154.63846  , 132.76454  , 137.8774   ,  92.56391  ,\n",
       "       168.26506  ,  99.297806 , 194.61755  , 152.99826  , 131.6186   ,\n",
       "        92.20655  , 101.92477  , 139.4131   , 202.53639  , 147.12923  ,\n",
       "        87.75967  ,  61.95019  , 145.88611  ,  95.20969  , 112.077324 ,\n",
       "       110.208984 , 170.64682  ,  88.739815 ,  51.250782 , 122.85266  ,\n",
       "       211.21838  , 206.02612  , 121.963425 , 120.871475 , 115.02543  ,\n",
       "       105.07523  , 183.00557  ,  83.57924  , 113.214905 , 169.72101  ,\n",
       "       128.13654  , 179.51376  , 136.38489  ,  66.01742  , 136.68721  ,\n",
       "        71.67956  ,  54.840126 , 147.76976  , 184.74121  ,  49.3612   ,\n",
       "       218.22675  , 102.58342  , 115.97492  , 102.05329  ,  84.23232  ,\n",
       "       172.08046  , 148.92233  ,  69.337166 , 255.       ], dtype=float32)"
      ]
     },
     "execution_count": 71,
     "metadata": {},
     "output_type": "execute_result"
    }
   ],
   "source": [
    "mean_vec.detach().numpy()"
   ]
  },
  {
   "cell_type": "code",
   "execution_count": 68,
   "metadata": {},
   "outputs": [
    {
     "data": {
      "text/plain": [
       "(384,)"
      ]
     },
     "execution_count": 68,
     "metadata": {},
     "output_type": "execute_result"
    }
   ],
   "source": [
    "mean_vec.detach().numpy().shape"
   ]
  },
  {
   "cell_type": "code",
   "execution_count": 73,
   "metadata": {},
   "outputs": [
    {
     "data": {
      "text/plain": [
       "array([ 0.00000000e+00,  2.68201828e-02, -1.53350830e-02,  1.50817871e-01,\n",
       "        0.00000000e+00,  0.00000000e+00,  0.00000000e+00, -1.06933594e-01,\n",
       "        0.00000000e+00,  0.00000000e+00,  0.00000000e+00, -6.98089600e-04,\n",
       "        0.00000000e+00,  0.00000000e+00, -6.94274902e-04,  0.00000000e+00,\n",
       "        3.27415466e-01, -3.66775513e-01, -2.82135010e-02, -2.02728271e-01,\n",
       "        0.00000000e+00,  2.02026367e-02,  8.35418701e-03, -9.43908691e-02,\n",
       "        1.64405823e-01, -1.92611694e-01, -1.20864868e-01, -1.53594971e-01,\n",
       "       -2.99530029e-02, -6.19964600e-02, -1.60568237e-01, -3.30886841e-01,\n",
       "       -3.13568115e-03,  5.08575439e-02,  0.00000000e+00,  2.34069824e-01,\n",
       "        8.11462402e-02,  3.03031921e-01, -2.43469238e-01,  6.51397705e-02,\n",
       "        2.26402283e-01, -1.63726807e-02,  2.71682739e-02,  3.66424561e-01,\n",
       "       -3.86276245e-01, -1.29226685e-01, -4.88281250e-03,  1.61964417e-01,\n",
       "       -5.83763123e-01,  3.09982300e-02, -1.40365601e-01,  9.09118652e-02,\n",
       "        3.65020752e-01, -7.14035034e-02, -1.39617920e-03,  2.96768188e-01,\n",
       "        4.33647156e-01,  1.67884827e-01, -3.76525879e-01, -1.91497803e-02,\n",
       "        5.24902344e-01, -4.07562256e-02,  1.62666321e-01,  5.25947571e-01,\n",
       "       -3.68865967e-01,  4.64996338e-01,  3.98811340e-01, -7.27272034e-01,\n",
       "       -3.23928833e-01, -8.01086426e-03, -2.26760864e-01,  5.01213074e-01,\n",
       "       -2.81433105e-01,  5.23376465e-03, -4.19357300e-01,  2.32330322e-01,\n",
       "       -3.53881836e-01, -2.68249512e-02,  5.63217163e-01, -5.81665039e-02,\n",
       "        4.07173157e-01, -2.77954102e-01, -6.86645508e-04, -5.79940796e-01,\n",
       "       -3.16963196e-01,  5.74722290e-02, -5.20034790e-01,  3.69110107e-02,\n",
       "       -7.01904297e-04,  4.76486206e-01,  6.19995117e-01, -8.42895508e-02,\n",
       "        4.32601929e-01,  1.17729187e-01,  2.57057190e-01,  2.90847778e-01,\n",
       "        2.45208740e-01, -4.31556702e-01, -1.46987915e-01, -3.83483887e-01,\n",
       "        6.50299072e-01, -3.23226929e-01, -1.83906555e-01, -4.06127930e-01,\n",
       "        4.82765198e-01, -4.07562256e-02,  4.77539062e-01,  5.98052979e-01,\n",
       "        3.30902100e-01,  1.03482056e+00, -4.15191650e-01,  1.53244019e-01,\n",
       "        8.35250854e-01, -4.87670898e-02,  4.20059204e-01,  3.52142334e-01,\n",
       "       -3.19396973e-01, -3.68164062e-01, -4.50714111e-01, -4.66384888e-01,\n",
       "       -3.17657471e-01,  3.60847473e-01, -5.32569885e-01, -3.43788147e-01,\n",
       "       -6.79901123e-01, -8.63113403e-01, -1.45240784e-01,  0.00000000e+00,\n",
       "        0.00000000e+00,  1.46284103e-02, -3.03039551e-02,  9.61380005e-02,\n",
       "        0.00000000e+00,  0.00000000e+00,  0.00000000e+00, -8.98590088e-02,\n",
       "        0.00000000e+00, -1.38854980e-03,  0.00000000e+00,  0.00000000e+00,\n",
       "        0.00000000e+00,  0.00000000e+00, -3.82995605e-03,  6.98089600e-04,\n",
       "        3.20098877e-01, -3.20800781e-01,  9.41467285e-03, -1.69631958e-01,\n",
       "        0.00000000e+00,  2.36816406e-02,  9.05609131e-03, -7.35015869e-02,\n",
       "        1.56044006e-01, -2.23266602e-01, -9.23004150e-02, -1.46301270e-01,\n",
       "       -5.95626831e-02, -1.06582642e-01, -1.17721558e-01, -3.29498291e-01,\n",
       "       -4.45861816e-02, -2.22930908e-02,  0.00000000e+00,  1.97494507e-01,\n",
       "        2.33306885e-02,  3.36463928e-01, -2.37548828e-01,  1.29577637e-01,\n",
       "        1.72416687e-01,  1.53198242e-02, -9.40513611e-03,  3.56323242e-01,\n",
       "       -3.68858337e-01, -8.98742676e-02, -1.01013184e-02,  1.10061646e-01,\n",
       "       -5.24208069e-01, -1.88064575e-02, -1.81823730e-01,  6.20040894e-02,\n",
       "        3.44818115e-01, -8.95156860e-02, -1.04522705e-03,  2.68890381e-01,\n",
       "        3.91845703e-01,  9.23004150e-02, -3.55972290e-01, -4.91027832e-02,\n",
       "        4.46533203e-01, -6.23474121e-02,  2.02018738e-01,  4.81712341e-01,\n",
       "       -3.10684204e-01,  4.29107666e-01,  3.77220154e-01, -6.09199524e-01,\n",
       "       -3.27407837e-01, -1.05285645e-03, -2.01675415e-01,  4.97734070e-01,\n",
       "       -2.85270691e-01,  1.38854980e-03, -2.96051025e-01,  2.49740601e-01,\n",
       "       -3.08258057e-01, -3.37829590e-02,  5.46501160e-01, -1.01013184e-02,\n",
       "        4.10308838e-01, -1.99584961e-01, -1.38854980e-03, -5.93521118e-01,\n",
       "       -3.16963196e-01,  3.83071899e-02, -4.92874146e-01,  4.73785400e-02,\n",
       "        4.98199463e-02,  4.60815430e-01,  5.86204529e-01,  7.32421875e-03,\n",
       "        5.04356384e-01,  9.19494629e-02,  2.61924744e-01,  2.75512695e-01,\n",
       "        2.69943237e-01, -4.42005157e-01, -7.52334595e-02, -3.12088013e-01,\n",
       "        6.19995117e-01, -4.28428650e-01, -1.56044006e-01, -3.88366699e-01,\n",
       "        3.84536743e-01, -5.92041016e-02,  4.49317932e-01,  5.22819519e-01,\n",
       "        2.54272461e-01,  9.60632324e-01, -3.52493286e-01,  2.35809326e-01,\n",
       "        8.02856445e-01, -1.10412598e-01,  4.08912659e-01,  2.65758514e-01,\n",
       "       -3.20434570e-01, -3.42742920e-01, -3.83140564e-01, -4.14154053e-01,\n",
       "       -3.21838379e-01,  3.48655701e-01, -4.79270935e-01, -4.37133789e-01,\n",
       "       -7.22396851e-01, -8.47778320e-01, -1.36886597e-01,  0.00000000e+00,\n",
       "        0.00000000e+00,  1.95055008e-02, -3.55377197e-02,  9.75341797e-02,\n",
       "        0.00000000e+00,  3.50952148e-04,  0.00000000e+00, -1.16683960e-01,\n",
       "        0.00000000e+00, -6.86645508e-04,  0.00000000e+00,  0.00000000e+00,\n",
       "        0.00000000e+00,  0.00000000e+00, -6.94274902e-04,  0.00000000e+00,\n",
       "        3.51799011e-01, -3.57009888e-01, -7.30895996e-03, -1.78680420e-01,\n",
       "        0.00000000e+00,  3.55224609e-02,  1.77612305e-02, -9.19647217e-02,\n",
       "        1.89132690e-01, -2.55310059e-01, -1.10061646e-01, -1.68930054e-01,\n",
       "       -8.91647339e-02, -1.11457825e-01, -1.15295410e-01, -3.41705322e-01,\n",
       "       -4.56314087e-02, -1.07955933e-02,  0.00000000e+00,  2.13516235e-01,\n",
       "        1.70745850e-02,  3.57368469e-01, -2.26745605e-01,  1.33056641e-01,\n",
       "        1.81823730e-01, -1.46179199e-02, -2.89096832e-02,  3.77227783e-01,\n",
       "       -3.98811340e-01, -1.15295410e-01, -9.04846191e-03,  1.10069275e-01,\n",
       "       -5.51376343e-01, -1.28860474e-02, -2.12821960e-01,  6.51397705e-02,\n",
       "        3.63983154e-01, -8.95156860e-02, -6.94274902e-04,  2.90145874e-01,\n",
       "        4.27375793e-01,  1.23306274e-01, -3.70948792e-01, -4.42352295e-02,\n",
       "        4.96688843e-01, -6.13021851e-02,  2.23274231e-01,  5.37094116e-01,\n",
       "       -3.38897705e-01,  4.71267700e-01,  4.11003113e-01, -6.67015076e-01,\n",
       "       -3.52142334e-01,  1.08032227e-02, -2.11074829e-01,  5.26641846e-01,\n",
       "       -3.29498291e-01,  3.82995605e-03, -3.23928833e-01,  2.74810791e-01,\n",
       "       -3.40301514e-01, -3.41339111e-02,  5.97007751e-01,  2.44140625e-03,\n",
       "        4.36782837e-01, -2.19436646e-01, -3.47900391e-03, -6.38458252e-01,\n",
       "       -3.51799011e-01,  4.17938232e-02, -5.30136108e-01,  5.92193604e-02,\n",
       "        4.73632812e-02,  4.98428345e-01,  6.20342255e-01,  1.25274658e-02,\n",
       "        5.31173706e-01,  1.07627869e-01,  2.98851013e-01,  3.13476562e-01,\n",
       "        2.53913879e-01, -4.90070343e-01, -6.89620972e-02, -3.55270386e-01,\n",
       "        6.82342529e-01, -4.64988708e-01, -1.73461914e-01, -4.20410156e-01,\n",
       "        4.04388428e-01, -4.84161377e-02,  4.76142883e-01,  5.80291748e-01,\n",
       "        2.78991699e-01,  1.04841614e+00, -3.89419556e-01,  2.69241333e-01,\n",
       "        8.55102539e-01, -1.11450195e-01,  4.44786072e-01,  2.99896240e-01,\n",
       "       -3.68499756e-01, -3.67126465e-01, -3.75827789e-01, -4.29458618e-01,\n",
       "       -3.28453064e-01,  3.85581970e-01, -5.40229797e-01, -4.47578430e-01,\n",
       "       -7.55493164e-01, -9.21295166e-01, -1.83563232e-01,  0.00000000e+00],\n",
       "      dtype=float32)"
      ]
     },
     "execution_count": 73,
     "metadata": {},
     "output_type": "execute_result"
    }
   ],
   "source": [
    "kmeans.cluster_centers_[1] - mean_vec.detach().numpy()"
   ]
  },
  {
   "cell_type": "code",
   "execution_count": 72,
   "metadata": {},
   "outputs": [
    {
     "data": {
      "text/plain": [
       "array([ 0.00000000e+00, -1.34096146e-02,  7.65991211e-03, -7.54089355e-02,\n",
       "        0.00000000e+00,  0.00000000e+00,  0.00000000e+00,  5.34667969e-02,\n",
       "        0.00000000e+00,  0.00000000e+00,  0.00000000e+00,  3.47137451e-04,\n",
       "        0.00000000e+00,  0.00000000e+00,  3.50952148e-04,  0.00000000e+00,\n",
       "       -1.63703918e-01,  1.83380127e-01,  1.41143799e-02,  1.01348877e-01,\n",
       "        0.00000000e+00, -1.01013184e-02, -4.18090820e-03,  4.71954346e-02,\n",
       "       -8.21990967e-02,  9.63134766e-02,  6.04400635e-02,  7.68127441e-02,\n",
       "        1.49841309e-02,  3.09982300e-02,  8.02917480e-02,  1.65451050e-01,\n",
       "        1.56402588e-03, -2.54287720e-02,  0.00000000e+00, -1.17034912e-01,\n",
       "       -4.05883789e-02, -1.51512146e-01,  1.21734619e-01, -3.25622559e-02,\n",
       "       -1.13197327e-01,  8.17871094e-03, -1.35841370e-02, -1.83212280e-01,\n",
       "        1.93138123e-01,  6.46057129e-02,  2.42614746e-03, -8.09860229e-02,\n",
       "        2.91885376e-01, -1.54953003e-02,  7.01904297e-02, -4.54559326e-02,\n",
       "       -1.82525635e-01,  3.56979370e-02,  6.94274902e-04, -1.48376465e-01,\n",
       "       -2.16827393e-01, -8.39385986e-02,  1.88262939e-01,  9.58251953e-03,\n",
       "       -2.62451172e-01,  2.03704834e-02, -8.13293457e-02, -2.62977600e-01,\n",
       "        1.84432983e-01, -2.32498169e-01, -1.99409485e-01,  3.63639832e-01,\n",
       "        1.61972046e-01,  3.99780273e-03,  1.13372803e-01, -2.50610352e-01,\n",
       "        1.40724182e-01, -2.60925293e-03,  2.09686279e-01, -1.16165161e-01,\n",
       "        1.76956177e-01,  1.33972168e-02, -2.81608582e-01,  2.90832520e-02,\n",
       "       -2.03582764e-01,  1.38977051e-01,  3.50952148e-04,  2.89962769e-01,\n",
       "        1.58485413e-01, -2.87399292e-02,  2.60009766e-01, -1.84631348e-02,\n",
       "        3.50952148e-04, -2.38250732e-01, -3.09997559e-01,  4.21447754e-02,\n",
       "       -2.16300964e-01, -5.88684082e-02, -1.28524780e-01, -1.45416260e-01,\n",
       "       -1.22604370e-01,  2.15778351e-01,  7.34939575e-02,  1.91757202e-01,\n",
       "       -3.25149536e-01,  1.61621094e-01,  9.19570923e-02,  2.03063965e-01,\n",
       "       -2.41378784e-01,  2.03857422e-02, -2.38761902e-01, -2.99026489e-01,\n",
       "       -1.65451050e-01, -5.17417908e-01,  2.07595825e-01, -7.66296387e-02,\n",
       "       -4.17625427e-01,  2.43835449e-02, -2.10029602e-01, -1.76071167e-01,\n",
       "        1.59713745e-01,  1.84082031e-01,  2.25357056e-01,  2.33184814e-01,\n",
       "        1.58828735e-01, -1.80427551e-01,  2.66281128e-01,  1.71890259e-01,\n",
       "        3.39950562e-01,  4.31564331e-01,  7.26242065e-02,  0.00000000e+00,\n",
       "        0.00000000e+00, -7.31468201e-03,  1.51519775e-02, -4.80651855e-02,\n",
       "        0.00000000e+00,  0.00000000e+00,  0.00000000e+00,  4.49371338e-02,\n",
       "        0.00000000e+00,  7.01904297e-04,  0.00000000e+00,  0.00000000e+00,\n",
       "        0.00000000e+00,  0.00000000e+00,  1.92260742e-03, -3.47137451e-04,\n",
       "       -1.60041809e-01,  1.60400391e-01, -4.69970703e-03,  8.48083496e-02,\n",
       "        0.00000000e+00, -1.18408203e-02, -4.52423096e-03,  3.67431641e-02,\n",
       "       -7.80181885e-02,  1.11633301e-01,  4.61578369e-02,  7.31353760e-02,\n",
       "        2.97851562e-02,  5.32913208e-02,  5.88684082e-02,  1.64749146e-01,\n",
       "        2.22930908e-02,  1.11465454e-02,  0.00000000e+00, -9.87396240e-02,\n",
       "       -1.16729736e-02, -1.68235779e-01,  1.18774414e-01, -6.47888184e-02,\n",
       "       -8.62045288e-02, -7.67517090e-03,  4.70161438e-03, -1.78161621e-01,\n",
       "        1.84432983e-01,  4.49218750e-02,  5.05065918e-03, -5.50308228e-02,\n",
       "        2.62107849e-01,  9.40704346e-03,  9.09042358e-02, -3.09982300e-02,\n",
       "       -1.72424316e-01,  4.47616577e-02,  5.26428223e-04, -1.34445190e-01,\n",
       "       -1.95922852e-01, -4.61502075e-02,  1.77986145e-01,  2.45513916e-02,\n",
       "       -2.23266602e-01,  3.11737061e-02, -1.01013184e-01, -2.40852356e-01,\n",
       "        1.55349731e-01, -2.14569092e-01, -1.88606262e-01,  3.04595947e-01,\n",
       "        1.63711548e-01,  5.18798828e-04,  1.00830078e-01, -2.48870850e-01,\n",
       "        1.42631531e-01, -7.01904297e-04,  1.48040771e-01, -1.24862671e-01,\n",
       "        1.54129028e-01,  1.68914795e-02, -2.73254395e-01,  5.05065918e-03,\n",
       "       -2.05154419e-01,  9.97924805e-02,  7.01904297e-04,  2.96752930e-01,\n",
       "        1.58485413e-01, -1.91574097e-02,  2.46429443e-01, -2.36816406e-02,\n",
       "       -2.49023438e-02, -2.30407715e-01, -2.93106079e-01, -3.66210938e-03,\n",
       "       -2.52174377e-01, -4.59823608e-02, -1.30966187e-01, -1.37756348e-01,\n",
       "       -1.34971619e-01,  2.21004486e-01,  3.76205444e-02,  1.56051636e-01,\n",
       "       -3.09982300e-01,  2.14210510e-01,  7.80258179e-02,  1.94183350e-01,\n",
       "       -1.92260742e-01,  2.96173096e-02, -2.24662781e-01, -2.61405945e-01,\n",
       "       -1.27120972e-01, -4.80323792e-01,  1.76254272e-01, -1.17904663e-01,\n",
       "       -4.01428223e-01,  5.52215576e-02, -2.04460144e-01, -1.32881165e-01,\n",
       "        1.60232544e-01,  1.71371460e-01,  1.91570282e-01,  2.07061768e-01,\n",
       "        1.60919189e-01, -1.74331665e-01,  2.39639282e-01,  2.18566895e-01,\n",
       "        3.61190796e-01,  4.23904419e-01,  6.84432983e-02,  0.00000000e+00,\n",
       "        0.00000000e+00, -9.75227356e-03,  1.77612305e-02, -4.87594604e-02,\n",
       "        0.00000000e+00, -1.67846680e-04,  0.00000000e+00,  5.83496094e-02,\n",
       "        0.00000000e+00,  3.50952148e-04,  0.00000000e+00,  0.00000000e+00,\n",
       "        0.00000000e+00,  0.00000000e+00,  3.50952148e-04,  0.00000000e+00,\n",
       "       -1.75895691e-01,  1.78512573e-01,  3.66210938e-03,  8.93554688e-02,\n",
       "        0.00000000e+00, -1.77612305e-02, -8.88824463e-03,  4.59747314e-02,\n",
       "       -9.45663452e-02,  1.27670288e-01,  5.50384521e-02,  8.44573975e-02,\n",
       "        4.45861816e-02,  5.57327271e-02,  5.76324463e-02,  1.70837402e-01,\n",
       "        2.28118896e-02,  5.40161133e-03,  0.00000000e+00, -1.06750488e-01,\n",
       "       -8.52966309e-03, -1.78680420e-01,  1.13372803e-01, -6.65283203e-02,\n",
       "       -9.09042358e-02,  7.32421875e-03,  1.44557953e-02, -1.88598633e-01,\n",
       "        1.99409485e-01,  5.76477051e-02,  4.53186035e-03, -5.50308228e-02,\n",
       "        2.75688171e-01,  6.44683838e-03,  1.06407166e-01, -3.25622559e-02,\n",
       "       -1.81991577e-01,  4.47616577e-02,  3.50952148e-04, -1.45065308e-01,\n",
       "       -2.13691711e-01, -6.16455078e-02,  1.85478210e-01,  2.21252441e-02,\n",
       "       -2.48352051e-01,  3.06472778e-02, -1.11633301e-01, -2.68547058e-01,\n",
       "        1.69464111e-01, -2.35626221e-01, -2.05505371e-01,  3.33511353e-01,\n",
       "        1.76071167e-01, -5.40161133e-03,  1.05545044e-01, -2.63328552e-01,\n",
       "        1.64749146e-01, -1.90734863e-03,  1.61956787e-01, -1.37420654e-01,\n",
       "        1.70150757e-01,  1.70593262e-02, -2.98500061e-01, -1.22070312e-03,\n",
       "       -2.18391418e-01,  1.09725952e-01,  1.73950195e-03,  3.19213867e-01,\n",
       "        1.75895691e-01, -2.08969116e-02,  2.65060425e-01, -2.96020508e-02,\n",
       "       -2.36816406e-02, -2.49214172e-01, -3.10173035e-01, -6.27136230e-03,\n",
       "       -2.65586853e-01, -5.38101196e-02, -1.49421692e-01, -1.56753540e-01,\n",
       "       -1.26960754e-01,  2.45037079e-01,  3.44848633e-02,  1.77642822e-01,\n",
       "       -3.41171265e-01,  2.32498169e-01,  8.67309570e-02,  2.10205078e-01,\n",
       "       -2.02194214e-01,  2.42156982e-02, -2.38067627e-01, -2.90138245e-01,\n",
       "       -1.39511108e-01, -5.24208069e-01,  1.94702148e-01, -1.34628296e-01,\n",
       "       -4.27551270e-01,  5.57403564e-02, -2.22396851e-01, -1.49948120e-01,\n",
       "        1.84265137e-01,  1.83547974e-01,  1.87911987e-01,  2.14736938e-01,\n",
       "        1.64230347e-01, -1.92787170e-01,  2.70118713e-01,  2.23793030e-01,\n",
       "        3.77746582e-01,  4.60632324e-01,  9.17816162e-02,  0.00000000e+00],\n",
       "      dtype=float32)"
      ]
     },
     "execution_count": 72,
     "metadata": {},
     "output_type": "execute_result"
    }
   ],
   "source": [
    "kmeans.cluster_centers_[0] - mean_vec.detach().numpy()"
   ]
  },
  {
   "cell_type": "code",
   "execution_count": 62,
   "metadata": {},
   "outputs": [
    {
     "data": {
      "text/plain": [
       "957"
      ]
     },
     "execution_count": 62,
     "metadata": {},
     "output_type": "execute_result"
    }
   ],
   "source": [
    "sum(kmeans.labels_)"
   ]
  },
  {
   "cell_type": "code",
   "execution_count": null,
   "metadata": {},
   "outputs": [],
   "source": []
  }
 ],
 "metadata": {
  "kernelspec": {
   "display_name": "Python [conda env:root] *",
   "language": "python",
   "name": "conda-root-py"
  },
  "language_info": {
   "codemirror_mode": {
    "name": "ipython",
    "version": 3
   },
   "file_extension": ".py",
   "mimetype": "text/x-python",
   "name": "python",
   "nbconvert_exporter": "python",
   "pygments_lexer": "ipython3",
   "version": "3.8.3"
  }
 },
 "nbformat": 4,
 "nbformat_minor": 4
}
